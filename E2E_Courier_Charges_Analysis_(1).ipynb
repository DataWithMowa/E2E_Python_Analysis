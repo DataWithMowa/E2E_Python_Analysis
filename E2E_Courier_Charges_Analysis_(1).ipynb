{
  "cells": [
    {
      "cell_type": "markdown",
      "metadata": {
        "id": "view-in-github",
        "colab_type": "text"
      },
      "source": [
        "<a href=\"https://colab.research.google.com/github/DataWithMowa/E2E_Python_Analysis/blob/main/E2E_Courier_Charges_Analysis_(1).ipynb\" target=\"_parent\"><img src=\"https://colab.research.google.com/assets/colab-badge.svg\" alt=\"Open In Colab\"/></a>"
      ]
    },
    {
      "cell_type": "markdown",
      "id": "46ea1df3-915f-43f6-a3e6-050892d6bfd1",
      "metadata": {
        "id": "46ea1df3-915f-43f6-a3e6-050892d6bfd1"
      },
      "source": [
        "<font size ='5'>E2E COURIER CHARGES ACCURACY ANALYSIS USING PYTHON</font>"
      ]
    },
    {
      "cell_type": "markdown",
      "id": "447873fa-0200-4418-901c-79d7e87d5f1b",
      "metadata": {
        "id": "447873fa-0200-4418-901c-79d7e87d5f1b"
      },
      "source": [
        "<font size ='4'>STEP 1: Import the necessary python libraries and the datasets.</font>"
      ]
    },
    {
      "cell_type": "code",
      "execution_count": 2,
      "id": "d47ec4e4-0129-49a1-af67-8734555a4b6f",
      "metadata": {
        "colab": {
          "base_uri": "https://localhost:8080/"
        },
        "id": "d47ec4e4-0129-49a1-af67-8734555a4b6f",
        "outputId": "d680594e-8bc0-430f-a422-179e75be4338"
      },
      "outputs": [
        {
          "output_type": "stream",
          "name": "stdout",
          "text": [
            "Order Report:\n",
            "   ExternOrderNo            SKU  Order Qty\n",
            "0     2001827036  8904223818706          1\n",
            "1     2001827036  8904223819093          1\n",
            "2     2001827036  8904223819109          1\n",
            "3     2001827036  8904223818430          1\n",
            "4     2001827036  8904223819277          1\n",
            "\n",
            "SKU Master:\n",
            "             SKU  Weight (g)\n",
            "0  8904223815682         210\n",
            "1  8904223815859         165\n",
            "2  8904223815866         113\n",
            "3  8904223815873          65\n",
            "4  8904223816214         120\n",
            "\n",
            "Pincode Mapping:\n",
            "   Warehouse Pincode  Customer Pincode Zone\n",
            "0             121003            507101    d\n",
            "1             121003            486886    d\n",
            "2             121003            532484    d\n",
            "3             121003            143001    b\n",
            "4             121003            515591    d\n",
            "\n",
            "Courier Invoice:\n",
            "        AWB Code    Order ID  Charged Weight  Warehouse Pincode  \\\n",
            "0  1091117222124  2001806232            1.30             121003   \n",
            "1  1091117222194  2001806273            1.00             121003   \n",
            "2  1091117222931  2001806408            2.50             121003   \n",
            "3  1091117223244  2001806458            1.00             121003   \n",
            "4  1091117229345  2001807012            0.15             121003   \n",
            "\n",
            "   Customer Pincode Zone Type of Shipment  Billing Amount (NGN.)  \n",
            "0            507101    d  Forward charges                 135000  \n",
            "1            486886    d  Forward charges                  90200  \n",
            "2            532484    d  Forward charges                 224600  \n",
            "3            143001    b  Forward charges                  61300  \n",
            "4            515591    d  Forward charges                  45400  \n",
            "\n",
            "Courier Company rates:\n",
            "   fwd_a_fixed  fwd_a_additional  fwd_b_fixed  fwd_b_additional  fwd_c_fixed  \\\n",
            "0        50150             40120        56100             48110        68170   \n",
            "\n",
            "   fwd_c_additional  fwd_d_fixed  fwd_d_additional  fwd_e_fixed  \\\n",
            "0             66130        77180             76160        96220   \n",
            "\n",
            "   fwd_e_additional  rto_a_fixed  rto_a_additional  rto_b_fixed  \\\n",
            "0             94350        23120             40120        34850   \n",
            "\n",
            "   rto_b_additional  rto_c_fixed  rto_c_additional  rto_d_fixed  \\\n",
            "0             48110        54230             66130        70210   \n",
            "\n",
            "   rto_d_additional  rto_e_fixed  rto_e_additional  \n",
            "0             76160        86190             94350  \n"
          ]
        }
      ],
      "source": [
        "#import pandas library first\n",
        "import pandas as pd\n",
        "\n",
        "#import the datsets next\n",
        "order_report = pd.read_excel(r\"/Order Report.xlsx\")\n",
        "sku_master = pd.read_excel(r\"/SKU Master.xlsx\")\n",
        "pincode_mapping = pd.read_excel(r\"/pincodes.xlsx\")\n",
        "courier_invoice = pd.read_excel(r\"/Invoice.xlsx\")\n",
        "courier_company_rates = pd.read_excel(r\"/Courier Company - Rates.xlsx\")\n",
        "\n",
        "#print them to confirm they've been imported succesfully.\n",
        "print(\"Order Report:\")\n",
        "print(order_report.head())\n",
        "print(\"\\nSKU Master:\")\n",
        "print(sku_master.head())\n",
        "print(\"\\nPincode Mapping:\")\n",
        "print(pincode_mapping.head())\n",
        "print(\"\\nCourier Invoice:\")\n",
        "print(courier_invoice.head())\n",
        "print(\"\\nCourier Company rates:\")\n",
        "print(courier_company_rates.head())"
      ]
    },
    {
      "cell_type": "markdown",
      "id": "5b990355-1631-44ce-a149-bbf0a843a3bd",
      "metadata": {
        "id": "5b990355-1631-44ce-a149-bbf0a843a3bd"
      },
      "source": [
        "<font size = '4'>STEP 2: CHECK FOR MISSING VALUES</font>"
      ]
    },
    {
      "cell_type": "code",
      "execution_count": 3,
      "id": "adfcc7cf-6998-4a6b-9d6d-3b0e4e263809",
      "metadata": {
        "colab": {
          "base_uri": "https://localhost:8080/"
        },
        "id": "adfcc7cf-6998-4a6b-9d6d-3b0e4e263809",
        "outputId": "3a9e246e-2881-42cf-e9b4-8811322a731b"
      },
      "outputs": [
        {
          "output_type": "stream",
          "name": "stdout",
          "text": [
            "\n",
            "Missing values in Website Order Report:\n",
            "ExternOrderNo    0\n",
            "SKU              0\n",
            "Order Qty        0\n",
            "dtype: int64\n",
            "\n",
            "Missing values in SKU Master:\n",
            "SKU           0\n",
            "Weight (g)    0\n",
            "dtype: int64\n",
            "\n",
            "Missing values in Pincode Mapping:\n",
            "Warehouse Pincode    0\n",
            "Customer Pincode     0\n",
            "Zone                 0\n",
            "dtype: int64\n",
            "\n",
            "Missing values in Courier Invoice:\n",
            "AWB Code                 0\n",
            "Order ID                 0\n",
            "Charged Weight           0\n",
            "Warehouse Pincode        0\n",
            "Customer Pincode         0\n",
            "Zone                     0\n",
            "Type of Shipment         0\n",
            "Billing Amount (NGN.)    0\n",
            "dtype: int64\n",
            "\n",
            "Missing values in courier company rates:\n",
            "fwd_a_fixed         0\n",
            "fwd_a_additional    0\n",
            "fwd_b_fixed         0\n",
            "fwd_b_additional    0\n",
            "fwd_c_fixed         0\n",
            "fwd_c_additional    0\n",
            "fwd_d_fixed         0\n",
            "fwd_d_additional    0\n",
            "fwd_e_fixed         0\n",
            "fwd_e_additional    0\n",
            "rto_a_fixed         0\n",
            "rto_a_additional    0\n",
            "rto_b_fixed         0\n",
            "rto_b_additional    0\n",
            "rto_c_fixed         0\n",
            "rto_c_additional    0\n",
            "rto_d_fixed         0\n",
            "rto_d_additional    0\n",
            "rto_e_fixed         0\n",
            "rto_e_additional    0\n",
            "dtype: int64\n"
          ]
        }
      ],
      "source": [
        "# Check for missing values\n",
        "print(\"\\nMissing values in Website Order Report:\")\n",
        "print(order_report.isnull().sum())\n",
        "print(\"\\nMissing values in SKU Master:\")\n",
        "print(sku_master.isnull().sum())\n",
        "print(\"\\nMissing values in Pincode Mapping:\")\n",
        "print(pincode_mapping.isnull().sum())\n",
        "print(\"\\nMissing values in Courier Invoice:\")\n",
        "print(courier_invoice.isnull().sum())\n",
        "print(\"\\nMissing values in courier company rates:\")\n",
        "print(courier_company_rates.isnull().sum())"
      ]
    },
    {
      "cell_type": "markdown",
      "id": "93bc4936-47ae-4234-b591-1271185ce3fa",
      "metadata": {
        "id": "93bc4936-47ae-4234-b591-1271185ce3fa"
      },
      "source": [
        "<font size ='4'>STEP 3:LET'S MERGE THE ORDER REPORT AAND THE SKU MASTER DATASET ACCORDING TO THE COMMON SKU COLUMN and assign it to a new dataframe called 'merged_data'.</font>"
      ]
    },
    {
      "cell_type": "code",
      "execution_count": 4,
      "id": "e6f7c360-f1d2-4c91-bda7-bba4c9bb7b19",
      "metadata": {
        "id": "e6f7c360-f1d2-4c91-bda7-bba4c9bb7b19"
      },
      "outputs": [],
      "source": [
        "#Why are we merging our datasets? In order to complete enrich our data and make it complete as one."
      ]
    },
    {
      "cell_type": "code",
      "execution_count": 5,
      "id": "7d3f06c2-c953-42c7-acec-18f2b9ce1d3c",
      "metadata": {
        "colab": {
          "base_uri": "https://localhost:8080/"
        },
        "id": "7d3f06c2-c953-42c7-acec-18f2b9ce1d3c",
        "outputId": "26ae96a4-bcf0-4f8c-9ff0-ac047bc3e9d3"
      },
      "outputs": [
        {
          "output_type": "stream",
          "name": "stdout",
          "text": [
            "   ExternOrderNo            SKU  Order Qty  Weight (g)\n",
            "0     2001827036  8904223818706          1         127\n",
            "1     2001827036  8904223819093          1         150\n",
            "2     2001827036  8904223819109          1         100\n",
            "3     2001827036  8904223818430          1         165\n",
            "4     2001827036  8904223819277          1         350\n"
          ]
        }
      ],
      "source": [
        "merged_data = pd.merge(order_report, sku_master, on='SKU')\n",
        "print(merged_data.head())"
      ]
    },
    {
      "cell_type": "markdown",
      "id": "1f8baa1c-7713-41f9-86d1-e9f5994dcb20",
      "metadata": {
        "id": "1f8baa1c-7713-41f9-86d1-e9f5994dcb20"
      },
      "source": [
        "<font size ='5'>STEP 4: The ‘ExternOrderNo’ is nothing but ‘Order Id’ in other datasets. Let’s rename this column:</font>"
      ]
    },
    {
      "cell_type": "code",
      "execution_count": 6,
      "id": "358ab6fd-d993-4bcc-a40c-5f23a5af4310",
      "metadata": {
        "id": "358ab6fd-d993-4bcc-a40c-5f23a5af4310"
      },
      "outputs": [],
      "source": [
        "merged_data = merged_data.rename(columns={'ExternOrderNo': 'Order ID'})"
      ]
    },
    {
      "cell_type": "markdown",
      "id": "7b9a8fa3-e24a-40f5-a158-545018660563",
      "metadata": {
        "id": "7b9a8fa3-e24a-40f5-a158-545018660563"
      },
      "source": [
        "<font size ='5'>STEP 5: Now let’s merge the courier invoice and pincode mapping dataset to achieve data completeness:</font>"
      ]
    },
    {
      "cell_type": "code",
      "execution_count": 7,
      "id": "cdded924-e98b-4a7d-8f42-24d3872758f9",
      "metadata": {
        "colab": {
          "base_uri": "https://localhost:8080/"
        },
        "id": "cdded924-e98b-4a7d-8f42-24d3872758f9",
        "outputId": "3c7d2fd8-3d55-4b36-c561-fa4abe15f611"
      },
      "outputs": [
        {
          "output_type": "stream",
          "name": "stdout",
          "text": [
            "     Order ID  Customer Pincode Type of Shipment  Warehouse Pincode Zone\n",
            "0  2001806232            507101  Forward charges             121003    d\n",
            "1  2001806273            486886  Forward charges             121003    d\n",
            "2  2001806408            532484  Forward charges             121003    d\n",
            "3  2001806458            143001  Forward charges             121003    b\n",
            "4  2001807012            515591  Forward charges             121003    d\n"
          ]
        }
      ],
      "source": [
        "'''\n",
        "FIRST: We're removing rows from pincode_mapping that have duplicate values in the 'Customer Pincode' column\n",
        "and assigning it to a new dataframe called sigma_courier as input.\n",
        "This ensures that each pincode appears only once in the sigma_courier DataFrame.\n",
        "This is important if you want to avoid issues arising from duplicate pincode entries.\n",
        "'''\n",
        "sigma_courier = pincode_mapping.drop_duplicates(subset=['Customer Pincode'])\n",
        "\n",
        "'''\n",
        "NEXT: We're creating a new DataFrame called courier_sigma as input that contains only the\n",
        "columns 'Order ID', 'Customer Pincode', and 'Type of Shipment' that we're selecting from the courier_invoice DataFrame.\n",
        "These are the relevant columns we want to work with from courier_invoice.\n",
        "'''\n",
        "courier_sigma= courier_invoice[['Order ID', 'Customer Pincode','Type of Shipment']]\n",
        "\n",
        "'''\n",
        "NEXT:We're creating a new DataFrame called 'pincodes' as input to performs a merge\n",
        "specifically, an inner join between the courier_sigma and sigma_courier DataFrames on='Customer Pincode'\n",
        "specifying that the merge should be performed based on the common column 'Customer Pincode' present in both DataFrames.\n",
        "This merge operation helps us associate customer pin codes with their respective orders and shipping types.\n",
        "'''\n",
        "pincodes= courier_sigma.merge(sigma_courier,on='Customer Pincode')\n",
        "\n",
        "#Lastly, we print the first five rows of the dataframe 'pincodes'\n",
        "print(pincodes.head())"
      ]
    },
    {
      "cell_type": "markdown",
      "id": "fa16493e-d615-46ad-903b-75f3818cd60f",
      "metadata": {
        "id": "fa16493e-d615-46ad-903b-75f3818cd60f"
      },
      "source": [
        "<font size ='5'>STEP 6: Now let’s merge the pin codes with the main dataframe:</font>"
      ]
    },
    {
      "cell_type": "code",
      "execution_count": 8,
      "id": "62e24a40-ff81-4aee-939b-816aaf3961a7",
      "metadata": {
        "id": "62e24a40-ff81-4aee-939b-816aaf3961a7"
      },
      "outputs": [],
      "source": [
        "#Let's create a new dataframe called 'merged2' as input and perform the merging operation on 'order ID'.\n",
        "merged2 = merged_data.merge(pincodes, on='Order ID')"
      ]
    },
    {
      "cell_type": "markdown",
      "id": "e30be2c5-3b11-4174-8600-d48bbf22e426",
      "metadata": {
        "id": "e30be2c5-3b11-4174-8600-d48bbf22e426"
      },
      "source": [
        "<font size ='5'>STEP 7: Now let’s calculate the weight in kilograms by dividing the ‘Weight (g)’ column in the ‘merged2’ DataFrame by 1000:</font>"
      ]
    },
    {
      "cell_type": "code",
      "execution_count": 9,
      "id": "2a255722-31dd-438f-ad93-9ce83b6c3acc",
      "metadata": {
        "id": "2a255722-31dd-438f-ad93-9ce83b6c3acc"
      },
      "outputs": [],
      "source": [
        "merged2['Weights (Kgs)'] = merged2['Weight (g)'] / 1000"
      ]
    },
    {
      "cell_type": "markdown",
      "id": "ed7c3b03-1ee0-45a8-adfb-9311a3bdb073",
      "metadata": {
        "id": "ed7c3b03-1ee0-45a8-adfb-9311a3bdb073"
      },
      "source": [
        "<font size ='5'>STEP 8: Now let’s calculate the weight slabs.</font>"
      ]
    },
    {
      "cell_type": "code",
      "execution_count": 10,
      "id": "bfdf69f7-fcde-48be-b7bc-5d964370ad02",
      "metadata": {
        "colab": {
          "base_uri": "https://localhost:8080/",
          "height": 70
        },
        "id": "bfdf69f7-fcde-48be-b7bc-5d964370ad02",
        "outputId": "7d755384-ac4b-49fc-f961-0cc666a8f16d"
      },
      "outputs": [
        {
          "output_type": "execute_result",
          "data": {
            "text/plain": [
              "\"\\nThis next line does the same thing as the previous line.\\nWe select the 'Charged Weight' column from the courier_invoice DataFrame\\nand apply the weight_slab function to each charged weight.\\nThe results are stored in a new column called 'Weight Slab Charged by Courier Company' in the courier_invoice DataFrame.\\n\""
            ],
            "application/vnd.google.colaboratory.intrinsic+json": {
              "type": "string"
            }
          },
          "metadata": {},
          "execution_count": 10
        }
      ],
      "source": [
        "def weight_slab(weight):\n",
        "    '''\n",
        "FIRST: We define a function called weight_slab that takes one argument, weight.\n",
        "This function is designed to calculate a \"weight slab\" – a rounded-up weight value, for column 'Charged Weight' in the Courier Invoice Dataset.\n",
        "'''\n",
        "    i = round(weight % 1, 1)\n",
        "    #Inside the function, we calculate the decimal part of the weight and round it upto one decimal place. The result is stored in the variable i as seen above.\n",
        "    if i == 0.0:\n",
        "        return weight\n",
        "        #if the rounded decimal part i is exactly 0.0. This means the weight is a whole number and it returns the original weight without any change as seen above.\n",
        "    elif i > 0.5:\n",
        "        return int(weight) + 1.0\n",
        "        '''\n",
        "        If the rounded decimal part is greater than 0.5, these two lines above returns the integer part of the weight plus 1.0.\n",
        "        For example, if weight is 7.6, int(weight) is 7, and the function returns 8.0.\n",
        "        This effectively rounds the weight up to the nearest whole number.\n",
        "        '''\n",
        "    else:\n",
        "        return int(weight) + 0.5\n",
        "        '''\n",
        "        If the rounded decimal part is between 0 and 0.5 (inclusive of 0.5), the next two lines above returns the integer part of the weight plus 0.5.\n",
        "        For example, if weight is 7.3, int(weight) is 7, and the function returns 7.5.\n",
        "        This rounds the weight up to the nearest half-kilogram.\n",
        "        '''\n",
        "merged2['Weight Slab (KG)'] = merged2['Weights (Kgs)'].apply(weight_slab)\n",
        "'''\n",
        "Next, we apply the weight_slab function to each value in the 'Weights (Kgs)' column.\n",
        "Its result is then assigned to a new column in merged2 called 'Weight Slab (KG)'. This creates the weight slabs as seen below.\n",
        "'''\n",
        "courier_invoice['Weight Slab Charged by Courier Company']=(courier_invoice['Charged Weight']).apply(weight_slab)\n",
        "'''\n",
        "This next line does the same thing as the previous line.\n",
        "We select the 'Charged Weight' column from the courier_invoice DataFrame\n",
        "and apply the weight_slab function to each charged weight.\n",
        "The results are stored in a new column called 'Weight Slab Charged by Courier Company' in the courier_invoice DataFrame.\n",
        "'''"
      ]
    },
    {
      "cell_type": "markdown",
      "id": "e145a014-0313-4674-aa86-11ed0c9910db",
      "metadata": {
        "id": "e145a014-0313-4674-aa86-11ed0c9910db"
      },
      "source": [
        "<font size ='5'>STEP 9: Now let’s rename the columns to prepare the desired dataframe.</font>"
      ]
    },
    {
      "cell_type": "code",
      "execution_count": 11,
      "id": "f7118273-73ea-4344-89d0-5940d1e39281",
      "metadata": {
        "id": "f7118273-73ea-4344-89d0-5940d1e39281"
      },
      "outputs": [],
      "source": [
        "courier_invoice = courier_invoice.rename(columns={'Zone': 'Delivery Zone Charged by Courier Company'})\n",
        "merged2 = merged2.rename(columns={'Zone': 'Delivery Zone As Per SIGMA'})\n",
        "merged2 = merged2.rename(columns={'Weight Slab (KG)': 'Weight Slab As Per SIGMA'})"
      ]
    },
    {
      "cell_type": "code",
      "execution_count": 12,
      "id": "e6779c77-2656-4c8e-973d-1208e8ff9c65",
      "metadata": {
        "id": "e6779c77-2656-4c8e-973d-1208e8ff9c65"
      },
      "outputs": [],
      "source": [
        "#Now, let's see our weight slab and delivery zones"
      ]
    },
    {
      "cell_type": "code",
      "execution_count": 13,
      "id": "ee3a3c77-c098-4899-ad32-cf8a33f2ee7a",
      "metadata": {
        "colab": {
          "base_uri": "https://localhost:8080/"
        },
        "id": "ee3a3c77-c098-4899-ad32-cf8a33f2ee7a",
        "outputId": "5fa2f964-c9f6-4e49-d97c-9b0233e97cc4"
      },
      "outputs": [
        {
          "output_type": "stream",
          "name": "stdout",
          "text": [
            "     Order ID            SKU  Order Qty  Weight (g)  Customer Pincode  \\\n",
            "0  2001827036  8904223818706          1         127            173213   \n",
            "1  2001827036  8904223819093          1         150            173213   \n",
            "2  2001827036  8904223819109          1         100            173213   \n",
            "3  2001827036  8904223818430          1         165            173213   \n",
            "4  2001827036  8904223819277          1         350            173213   \n",
            "\n",
            "  Type of Shipment  Warehouse Pincode Delivery Zone As Per SIGMA  \\\n",
            "0  Forward charges             121003                          e   \n",
            "1  Forward charges             121003                          e   \n",
            "2  Forward charges             121003                          e   \n",
            "3  Forward charges             121003                          e   \n",
            "4  Forward charges             121003                          e   \n",
            "\n",
            "   Weights (Kgs)  Weight Slab As Per SIGMA  \n",
            "0          0.127                       0.5  \n",
            "1          0.150                       0.5  \n",
            "2          0.100                       0.5  \n",
            "3          0.165                       0.5  \n",
            "4          0.350                       0.5  \n"
          ]
        }
      ],
      "source": [
        "print(merged2.head())"
      ]
    },
    {
      "cell_type": "code",
      "execution_count": 14,
      "id": "e851c1e4-a737-43ba-870e-027299a6dd99",
      "metadata": {
        "colab": {
          "base_uri": "https://localhost:8080/"
        },
        "id": "e851c1e4-a737-43ba-870e-027299a6dd99",
        "outputId": "58e8938a-f4bb-47e4-9b2b-036dc601da35"
      },
      "outputs": [
        {
          "output_type": "stream",
          "name": "stdout",
          "text": [
            "        AWB Code    Order ID  Charged Weight  Warehouse Pincode  \\\n",
            "0  1091117222124  2001806232            1.30             121003   \n",
            "1  1091117222194  2001806273            1.00             121003   \n",
            "2  1091117222931  2001806408            2.50             121003   \n",
            "3  1091117223244  2001806458            1.00             121003   \n",
            "4  1091117229345  2001807012            0.15             121003   \n",
            "\n",
            "   Customer Pincode Delivery Zone Charged by Courier Company Type of Shipment  \\\n",
            "0            507101                                        d  Forward charges   \n",
            "1            486886                                        d  Forward charges   \n",
            "2            532484                                        d  Forward charges   \n",
            "3            143001                                        b  Forward charges   \n",
            "4            515591                                        d  Forward charges   \n",
            "\n",
            "   Billing Amount (NGN.)  Weight Slab Charged by Courier Company  \n",
            "0                 135000                                     1.5  \n",
            "1                  90200                                     1.0  \n",
            "2                 224600                                     2.5  \n",
            "3                  61300                                     1.0  \n",
            "4                  45400                                     0.5  \n"
          ]
        }
      ],
      "source": [
        "print(courier_invoice.head())"
      ]
    },
    {
      "cell_type": "markdown",
      "id": "d7320a4b-a50b-437c-b146-9cb39ecd942e",
      "metadata": {
        "id": "d7320a4b-a50b-437c-b146-9cb39ecd942e"
      },
      "source": [
        "<font size ='5'>STEP 10: Now let’s calculate the expected charges:</font>"
      ]
    },
    {
      "cell_type": "code",
      "execution_count": 15,
      "id": "0101de0b-4f35-4570-9ca9-accdb14f0a63",
      "metadata": {
        "colab": {
          "base_uri": "https://localhost:8080/"
        },
        "id": "0101de0b-4f35-4570-9ca9-accdb14f0a63",
        "outputId": "c646093f-f1aa-452b-f0fa-596ef1a2cef7"
      },
      "outputs": [
        {
          "output_type": "stream",
          "name": "stdout",
          "text": [
            "     Order ID            SKU  Order Qty  Weight (g)  Customer Pincode  \\\n",
            "0  2001827036  8904223818706          1         127            173213   \n",
            "1  2001827036  8904223819093          1         150            173213   \n",
            "2  2001827036  8904223819109          1         100            173213   \n",
            "3  2001827036  8904223818430          1         165            173213   \n",
            "4  2001827036  8904223819277          1         350            173213   \n",
            "\n",
            "  Type of Shipment  Warehouse Pincode Delivery Zone As Per SIGMA  \\\n",
            "0  Forward charges             121003                          e   \n",
            "1  Forward charges             121003                          e   \n",
            "2  Forward charges             121003                          e   \n",
            "3  Forward charges             121003                          e   \n",
            "4  Forward charges             121003                          e   \n",
            "\n",
            "   Weights (Kgs)  Weight Slab As Per SIGMA  Expected Charge as per SIGMA  \n",
            "0          0.127                       0.5                       96220.0  \n",
            "1          0.150                       0.5                       96220.0  \n",
            "2          0.100                       0.5                       96220.0  \n",
            "3          0.165                       0.5                       96220.0  \n",
            "4          0.350                       0.5                       96220.0  \n"
          ]
        }
      ],
      "source": [
        "total_expected_charge = []\n",
        "\n",
        "for _, row in merged2.iterrows():\n",
        "    fwd_category = 'fwd_' + row['Delivery Zone As Per SIGMA']\n",
        "    fwd_fixed = courier_company_rates.at[0, fwd_category + '_fixed']\n",
        "    fwd_additional = courier_company_rates.at[0, fwd_category + '_additional']\n",
        "    rto_category = 'rto_' + row['Delivery Zone As Per SIGMA']\n",
        "    rto_fixed = courier_company_rates.at[0, rto_category + '_fixed']\n",
        "    rto_additional = courier_company_rates.at[0, rto_category + '_additional']\n",
        "\n",
        "    weight_slab = row['Weight Slab As Per SIGMA']\n",
        "\n",
        "    if row['Type of Shipment'] == 'Forward charges':\n",
        "        additional_weight = max(0, (weight_slab - 0.5) / 0.5)\n",
        "        total_expected_charge.append(fwd_fixed + additional_weight * fwd_additional)\n",
        "    elif row['Type of Shipment'] == 'Forward and RTO charges':\n",
        "        additional_weight = max(0, (weight_slab - 0.5) / 0.5)\n",
        "        total_expected_charge.append(fwd_fixed + additional_weight * (fwd_additional + rto_additional))\n",
        "    else:\n",
        "        total_expected_charge.append(0)\n",
        "\n",
        "merged2['Expected Charge as per SIGMA'] = total_expected_charge\n",
        "print(merged2.head())"
      ]
    },
    {
      "cell_type": "code",
      "execution_count": 16,
      "id": "f154e2ca-bb1a-4302-8bd1-b38f16ad263b",
      "metadata": {
        "colab": {
          "base_uri": "https://localhost:8080/",
          "height": 157
        },
        "id": "f154e2ca-bb1a-4302-8bd1-b38f16ad263b",
        "outputId": "549f2b31-8d30-4bb4-9087-9d106939ebf2"
      },
      "outputs": [
        {
          "output_type": "execute_result",
          "data": {
            "text/plain": [
              "'\\nBelow is how the above code works:\\n\\n1. In this code, we loop through each row of the ‘merged2’ DataFrame to calculate the expected charges based on ABC’s tariffs. \\nWe retrieve the necessary rates and parameters, such as fixed charges and \\nsurcharges per weight tier for forward and RTO shipments, based on the delivery area.\\n2. We then determine the weight of the slab for each row. If the shipment type is ‘Forward Charges’, \\nwe calculate the additional weight beyond the basic weight slab (0.5 KG) and apply the corresponding additional charges. \\nFor “Forward and RTO Charges” shipments, we consider additional charges for term and RTO components.\\n3. Finally, we store the calculated expected charges in the “Expected charges according to ABC” column of the “merged2” DataFrame. \\nThis allows us to compare the expected charges with the charges billed to analyze the accuracy of the courier company’s charges.\\n'"
            ],
            "application/vnd.google.colaboratory.intrinsic+json": {
              "type": "string"
            }
          },
          "metadata": {},
          "execution_count": 16
        }
      ],
      "source": [
        "'''\n",
        "Below is how the above code works:\n",
        "\n",
        "1. In this code, we loop through each row of the ‘merged2’ DataFrame to calculate the expected charges based on ABC’s tariffs.\n",
        "We retrieve the necessary rates and parameters, such as fixed charges and\n",
        "surcharges per weight tier for forward and RTO shipments, based on the delivery area.\n",
        "2. We then determine the weight of the slab for each row. If the shipment type is ‘Forward Charges’,\n",
        "we calculate the additional weight beyond the basic weight slab (0.5 KG) and apply the corresponding additional charges.\n",
        "For “Forward and RTO Charges” shipments, we consider additional charges for term and RTO components.\n",
        "3. Finally, we store the calculated expected charges in the “Expected charges according to ABC” column of the “merged2” DataFrame.\n",
        "This allows us to compare the expected charges with the charges billed to analyze the accuracy of the courier company’s charges.\n",
        "'''"
      ]
    },
    {
      "cell_type": "markdown",
      "id": "59bbd98e-6cea-4645-8058-29fc3cf0160f",
      "metadata": {
        "id": "59bbd98e-6cea-4645-8058-29fc3cf0160f"
      },
      "source": [
        "<font size ='5'>STEP 11: Now let’s merge 'Merged2' Dataframe with the courier invoice to display a new dataframe called 'merged_output':</font>"
      ]
    },
    {
      "cell_type": "code",
      "execution_count": 17,
      "id": "bf4a4b32-0daf-47f5-9752-b09b6bc72b8b",
      "metadata": {
        "colab": {
          "base_uri": "https://localhost:8080/"
        },
        "id": "bf4a4b32-0daf-47f5-9752-b09b6bc72b8b",
        "outputId": "f31a6ce8-f1bb-4c8a-e1bf-695364c7f3b1"
      },
      "outputs": [
        {
          "output_type": "stream",
          "name": "stdout",
          "text": [
            "     Order ID            SKU  Order Qty  Weight (g)  Customer Pincode_x  \\\n",
            "0  2001827036  8904223818706          1         127              173213   \n",
            "1  2001827036  8904223819093          1         150              173213   \n",
            "2  2001827036  8904223819109          1         100              173213   \n",
            "3  2001827036  8904223818430          1         165              173213   \n",
            "4  2001827036  8904223819277          1         350              173213   \n",
            "\n",
            "  Type of Shipment_x  Warehouse Pincode_x Delivery Zone As Per SIGMA  \\\n",
            "0    Forward charges               121003                          e   \n",
            "1    Forward charges               121003                          e   \n",
            "2    Forward charges               121003                          e   \n",
            "3    Forward charges               121003                          e   \n",
            "4    Forward charges               121003                          e   \n",
            "\n",
            "   Weights (Kgs)  Weight Slab As Per SIGMA  Expected Charge as per SIGMA  \\\n",
            "0          0.127                       0.5                       96220.0   \n",
            "1          0.150                       0.5                       96220.0   \n",
            "2          0.100                       0.5                       96220.0   \n",
            "3          0.165                       0.5                       96220.0   \n",
            "4          0.350                       0.5                       96220.0   \n",
            "\n",
            "        AWB Code  Charged Weight  Warehouse Pincode_y  Customer Pincode_y  \\\n",
            "0  1091122418320             1.6               121003              173213   \n",
            "1  1091122418320             1.6               121003              173213   \n",
            "2  1091122418320             1.6               121003              173213   \n",
            "3  1091122418320             1.6               121003              173213   \n",
            "4  1091122418320             1.6               121003              173213   \n",
            "\n",
            "  Delivery Zone Charged by Courier Company Type of Shipment_y  \\\n",
            "0                                        b    Forward charges   \n",
            "1                                        b    Forward charges   \n",
            "2                                        b    Forward charges   \n",
            "3                                        b    Forward charges   \n",
            "4                                        b    Forward charges   \n",
            "\n",
            "   Billing Amount (NGN.)  Weight Slab Charged by Courier Company  \n",
            "0                 117900                                     2.0  \n",
            "1                 117900                                     2.0  \n",
            "2                 117900                                     2.0  \n",
            "3                 117900                                     2.0  \n",
            "4                 117900                                     2.0  \n"
          ]
        }
      ],
      "source": [
        "merged_output = merged2.merge(courier_invoice, on='Order ID')\n",
        "print(merged_output.head())"
      ]
    },
    {
      "cell_type": "markdown",
      "id": "c58ee270-d16d-40c4-93ef-414d1399d9da",
      "metadata": {
        "id": "c58ee270-d16d-40c4-93ef-414d1399d9da"
      },
      "source": [
        "<font size ='5'>STEP 12: Now let’s calculate the differences in charges and expected charges for each order:</font>"
      ]
    },
    {
      "cell_type": "code",
      "execution_count": 18,
      "id": "91b66d96-a5e6-4191-bb85-cbf6413e3677",
      "metadata": {
        "colab": {
          "base_uri": "https://localhost:8080/",
          "height": 313
        },
        "id": "91b66d96-a5e6-4191-bb85-cbf6413e3677",
        "outputId": "3102352f-20bd-42c9-b3b6-415cec420791"
      },
      "outputs": [
        {
          "output_type": "stream",
          "name": "stdout",
          "text": [
            "     Order ID  Billing Amount (NGN.)  Expected Charge as per SIGMA  \\\n",
            "0  2001827036                 117900                       96220.0   \n",
            "1  2001827036                 117900                       96220.0   \n",
            "2  2001827036                 117900                       96220.0   \n",
            "3  2001827036                 117900                       96220.0   \n",
            "4  2001827036                 117900                       96220.0   \n",
            "\n",
            "   Difference (NGN.)  \n",
            "0            21680.0  \n",
            "1            21680.0  \n",
            "2            21680.0  \n",
            "3            21680.0  \n",
            "4            21680.0  \n"
          ]
        },
        {
          "output_type": "execute_result",
          "data": {
            "text/plain": [
              "'\\nThis code takes a DataFrame (merged_output), calculates the difference between billing amounts and expected charges,\\nand then creates a new DataFrame (df_new) containing the order ID, the billing amount, the expected charge and calculated difference\\nThe print statement displays the first few rows of this new DataFrame. This is done to analyze discrepancies in billing.\\n'"
            ],
            "application/vnd.google.colaboratory.intrinsic+json": {
              "type": "string"
            }
          },
          "metadata": {},
          "execution_count": 18
        }
      ],
      "source": [
        "df_diff = merged_output\n",
        "df_diff['Difference (NGN.)'] = df_diff['Billing Amount (NGN.)'] - df_diff['Expected Charge as per SIGMA']\n",
        "\n",
        "df_new = df_diff[['Order ID', 'Billing Amount (NGN.)', 'Expected Charge as per SIGMA', 'Difference (NGN.)']]\n",
        "\n",
        "print(df_new.head())\n",
        "'''\n",
        "This code takes a DataFrame (merged_output), calculates the difference between billing amounts and expected charges,\n",
        "and then creates a new DataFrame (df_new) containing the order ID, the billing amount, the expected charge and calculated difference\n",
        "The print statement displays the first few rows of this new DataFrame. This is done to analyze discrepancies in billing.\n",
        "'''"
      ]
    },
    {
      "cell_type": "markdown",
      "id": "c2243fb0-2ff0-4361-8110-776c7d9816a7",
      "metadata": {
        "id": "c2243fb0-2ff0-4361-8110-776c7d9816a7"
      },
      "source": [
        "<font size ='5'>STEP 13: Now let’s summarize the accuracy of E2E courier charges based on the charged prices and expected prices.</font>"
      ]
    },
    {
      "cell_type": "code",
      "execution_count": 19,
      "id": "af056c13-f489-4d92-9c57-2e84717bc02b",
      "metadata": {
        "colab": {
          "base_uri": "https://localhost:8080/",
          "height": 70
        },
        "id": "af056c13-f489-4d92-9c57-2e84717bc02b",
        "outputId": "3bbfd4de-53af-44ce-a2a8-0b9ee69f2ce2"
      },
      "outputs": [
        {
          "output_type": "execute_result",
          "data": {
            "text/plain": [
              "\"\\nThis code analyzes the 'Difference (NGN.)' column to categorize orders based on whether they were correctly \\ncharged, overcharged, or undercharged. It then counts the number of orders in each category.  \\nThe results are stored in the variables total_correctly_charged, total_overcharged, and total_undercharged\\n\""
            ],
            "application/vnd.google.colaboratory.intrinsic+json": {
              "type": "string"
            }
          },
          "metadata": {},
          "execution_count": 19
        }
      ],
      "source": [
        "# Calculate the total orders in each category\n",
        "total_correctly_charged = len(df_new[df_new['Difference (NGN.)'] == 0])\n",
        "total_overcharged = len(df_new[df_new['Difference (NGN.)'] > 0])\n",
        "total_undercharged = len(df_new[df_new['Difference (NGN.)'] < 0])\n",
        "'''\n",
        "This code analyzes the 'Difference (NGN.)' column to categorize orders based on whether they were correctly\n",
        "charged, overcharged, or undercharged. It then counts the number of orders in each category.\n",
        "The results are stored in the variables total_correctly_charged, total_overcharged, and total_undercharged\n",
        "'''"
      ]
    },
    {
      "cell_type": "code",
      "execution_count": 20,
      "id": "e1ea319f-0125-4461-bfdd-1e0ed9505b93",
      "metadata": {
        "colab": {
          "base_uri": "https://localhost:8080/",
          "height": 53
        },
        "id": "e1ea319f-0125-4461-bfdd-1e0ed9505b93",
        "outputId": "c8e7c64a-530a-4c00-a8aa-28e7e6921303"
      },
      "outputs": [
        {
          "output_type": "execute_result",
          "data": {
            "text/plain": [
              "'\\nThis code calculates the total amounts associated with overcharging, undercharging, and correctly charged orders. \\n'"
            ],
            "application/vnd.google.colaboratory.intrinsic+json": {
              "type": "string"
            }
          },
          "metadata": {},
          "execution_count": 20
        }
      ],
      "source": [
        "# Calculate the total amount in each category\n",
        "amount_overcharged = abs(df_new[df_new['Difference (NGN.)'] > 0]['Difference (NGN.)'].sum())\n",
        "amount_undercharged = df_new[df_new['Difference (NGN.)'] < 0]['Difference (NGN.)'].sum()\n",
        "amount_correctly_charged = df_new[df_new['Difference (NGN.)'] == 0]['Expected Charge as per SIGMA'].sum()\n",
        "'''\n",
        "This code calculates the total amounts associated with overcharging, undercharging, and correctly charged orders.\n",
        "'''"
      ]
    },
    {
      "cell_type": "code",
      "execution_count": 21,
      "id": "38462c53-b546-4fe5-9fc5-f4befdaddf95",
      "metadata": {
        "id": "38462c53-b546-4fe5-9fc5-f4befdaddf95"
      },
      "outputs": [],
      "source": [
        "# Create a new DataFrame for the summary\n",
        "summary_data = {'Description': ['Total Orders where SIGMA has been correctly charged',\n",
        "                                'Total Orders where SIGMA has been overcharged',\n",
        "                                'Total Orders where SIGMA has been undercharged'],\n",
        "                'Count': [total_correctly_charged, total_overcharged, total_undercharged],\n",
        "                'Amount (NGN.)': [amount_correctly_charged, amount_overcharged, amount_undercharged]}\n"
      ]
    },
    {
      "cell_type": "code",
      "execution_count": 22,
      "id": "6566b7b3-f67b-4c3d-bde5-af0a70508775",
      "metadata": {
        "colab": {
          "base_uri": "https://localhost:8080/"
        },
        "id": "6566b7b3-f67b-4c3d-bde5-af0a70508775",
        "outputId": "665e3081-0a6a-47b1-e29a-3d0188a99e99"
      },
      "outputs": [
        {
          "output_type": "stream",
          "name": "stdout",
          "text": [
            "                                         Description  Count  Amount (NGN.)\n",
            "0  Total Orders where SIGMA has been correctly ch...      0            0.0\n",
            "1      Total Orders where SIGMA has been overcharged    354     23742040.0\n",
            "2     Total Orders where SIGMA has been undercharged     47     -1242780.0\n"
          ]
        }
      ],
      "source": [
        "#Then we create a Pandas DataFrame named df_summary from the data stored in the variable summary_data and of course print it.\n",
        "df_summary = pd.DataFrame(summary_data)\n",
        "\n",
        "print(df_summary)"
      ]
    },
    {
      "cell_type": "markdown",
      "id": "72a9f6b2-c7c5-4313-b6c3-8a98e9df9ab6",
      "metadata": {
        "id": "72a9f6b2-c7c5-4313-b6c3-8a98e9df9ab6"
      },
      "source": [
        "<font size ='5'>STEP 14: Let's visualize the proportion of errors using plotly.</font>"
      ]
    },
    {
      "cell_type": "code",
      "execution_count": 23,
      "id": "cd9d3c2b-2c9e-498e-8a42-5541fd879ac3",
      "metadata": {
        "colab": {
          "base_uri": "https://localhost:8080/",
          "height": 542
        },
        "id": "cd9d3c2b-2c9e-498e-8a42-5541fd879ac3",
        "outputId": "fef5e864-b6b5-4873-ec56-11ae3a4de4f1"
      },
      "outputs": [
        {
          "output_type": "display_data",
          "data": {
            "text/html": [
              "<html>\n",
              "<head><meta charset=\"utf-8\" /></head>\n",
              "<body>\n",
              "    <div>            <script src=\"https://cdnjs.cloudflare.com/ajax/libs/mathjax/2.7.5/MathJax.js?config=TeX-AMS-MML_SVG\"></script><script type=\"text/javascript\">if (window.MathJax && window.MathJax.Hub && window.MathJax.Hub.Config) {window.MathJax.Hub.Config({SVG: {font: \"STIX-Web\"}});}</script>                <script type=\"text/javascript\">window.PlotlyConfig = {MathJaxConfig: 'local'};</script>\n",
              "        <script charset=\"utf-8\" src=\"https://cdn.plot.ly/plotly-2.35.2.min.js\"></script>                <div id=\"c895c386-a712-4f57-98d4-e86a628c391a\" class=\"plotly-graph-div\" style=\"height:525px; width:100%;\"></div>            <script type=\"text/javascript\">                                    window.PLOTLYENV=window.PLOTLYENV || {};                                    if (document.getElementById(\"c895c386-a712-4f57-98d4-e86a628c391a\")) {                    Plotly.newPlot(                        \"c895c386-a712-4f57-98d4-e86a628c391a\",                        [{\"hole\":0.4,\"labels\":[\"Total Orders where SIGMA has been correctly charged\",\"Total Orders where SIGMA has been overcharged\",\"Total Orders where SIGMA has been undercharged\"],\"textinfo\":\"label+percent\",\"values\":[0,354,47],\"type\":\"pie\"}],                        {\"template\":{\"data\":{\"histogram2dcontour\":[{\"type\":\"histogram2dcontour\",\"colorbar\":{\"outlinewidth\":0,\"ticks\":\"\"},\"colorscale\":[[0.0,\"#0d0887\"],[0.1111111111111111,\"#46039f\"],[0.2222222222222222,\"#7201a8\"],[0.3333333333333333,\"#9c179e\"],[0.4444444444444444,\"#bd3786\"],[0.5555555555555556,\"#d8576b\"],[0.6666666666666666,\"#ed7953\"],[0.7777777777777778,\"#fb9f3a\"],[0.8888888888888888,\"#fdca26\"],[1.0,\"#f0f921\"]]}],\"choropleth\":[{\"type\":\"choropleth\",\"colorbar\":{\"outlinewidth\":0,\"ticks\":\"\"}}],\"histogram2d\":[{\"type\":\"histogram2d\",\"colorbar\":{\"outlinewidth\":0,\"ticks\":\"\"},\"colorscale\":[[0.0,\"#0d0887\"],[0.1111111111111111,\"#46039f\"],[0.2222222222222222,\"#7201a8\"],[0.3333333333333333,\"#9c179e\"],[0.4444444444444444,\"#bd3786\"],[0.5555555555555556,\"#d8576b\"],[0.6666666666666666,\"#ed7953\"],[0.7777777777777778,\"#fb9f3a\"],[0.8888888888888888,\"#fdca26\"],[1.0,\"#f0f921\"]]}],\"heatmap\":[{\"type\":\"heatmap\",\"colorbar\":{\"outlinewidth\":0,\"ticks\":\"\"},\"colorscale\":[[0.0,\"#0d0887\"],[0.1111111111111111,\"#46039f\"],[0.2222222222222222,\"#7201a8\"],[0.3333333333333333,\"#9c179e\"],[0.4444444444444444,\"#bd3786\"],[0.5555555555555556,\"#d8576b\"],[0.6666666666666666,\"#ed7953\"],[0.7777777777777778,\"#fb9f3a\"],[0.8888888888888888,\"#fdca26\"],[1.0,\"#f0f921\"]]}],\"heatmapgl\":[{\"type\":\"heatmapgl\",\"colorbar\":{\"outlinewidth\":0,\"ticks\":\"\"},\"colorscale\":[[0.0,\"#0d0887\"],[0.1111111111111111,\"#46039f\"],[0.2222222222222222,\"#7201a8\"],[0.3333333333333333,\"#9c179e\"],[0.4444444444444444,\"#bd3786\"],[0.5555555555555556,\"#d8576b\"],[0.6666666666666666,\"#ed7953\"],[0.7777777777777778,\"#fb9f3a\"],[0.8888888888888888,\"#fdca26\"],[1.0,\"#f0f921\"]]}],\"contourcarpet\":[{\"type\":\"contourcarpet\",\"colorbar\":{\"outlinewidth\":0,\"ticks\":\"\"}}],\"contour\":[{\"type\":\"contour\",\"colorbar\":{\"outlinewidth\":0,\"ticks\":\"\"},\"colorscale\":[[0.0,\"#0d0887\"],[0.1111111111111111,\"#46039f\"],[0.2222222222222222,\"#7201a8\"],[0.3333333333333333,\"#9c179e\"],[0.4444444444444444,\"#bd3786\"],[0.5555555555555556,\"#d8576b\"],[0.6666666666666666,\"#ed7953\"],[0.7777777777777778,\"#fb9f3a\"],[0.8888888888888888,\"#fdca26\"],[1.0,\"#f0f921\"]]}],\"surface\":[{\"type\":\"surface\",\"colorbar\":{\"outlinewidth\":0,\"ticks\":\"\"},\"colorscale\":[[0.0,\"#0d0887\"],[0.1111111111111111,\"#46039f\"],[0.2222222222222222,\"#7201a8\"],[0.3333333333333333,\"#9c179e\"],[0.4444444444444444,\"#bd3786\"],[0.5555555555555556,\"#d8576b\"],[0.6666666666666666,\"#ed7953\"],[0.7777777777777778,\"#fb9f3a\"],[0.8888888888888888,\"#fdca26\"],[1.0,\"#f0f921\"]]}],\"mesh3d\":[{\"type\":\"mesh3d\",\"colorbar\":{\"outlinewidth\":0,\"ticks\":\"\"}}],\"scatter\":[{\"fillpattern\":{\"fillmode\":\"overlay\",\"size\":10,\"solidity\":0.2},\"type\":\"scatter\"}],\"parcoords\":[{\"type\":\"parcoords\",\"line\":{\"colorbar\":{\"outlinewidth\":0,\"ticks\":\"\"}}}],\"scatterpolargl\":[{\"type\":\"scatterpolargl\",\"marker\":{\"colorbar\":{\"outlinewidth\":0,\"ticks\":\"\"}}}],\"bar\":[{\"error_x\":{\"color\":\"#2a3f5f\"},\"error_y\":{\"color\":\"#2a3f5f\"},\"marker\":{\"line\":{\"color\":\"#E5ECF6\",\"width\":0.5},\"pattern\":{\"fillmode\":\"overlay\",\"size\":10,\"solidity\":0.2}},\"type\":\"bar\"}],\"scattergeo\":[{\"type\":\"scattergeo\",\"marker\":{\"colorbar\":{\"outlinewidth\":0,\"ticks\":\"\"}}}],\"scatterpolar\":[{\"type\":\"scatterpolar\",\"marker\":{\"colorbar\":{\"outlinewidth\":0,\"ticks\":\"\"}}}],\"histogram\":[{\"marker\":{\"pattern\":{\"fillmode\":\"overlay\",\"size\":10,\"solidity\":0.2}},\"type\":\"histogram\"}],\"scattergl\":[{\"type\":\"scattergl\",\"marker\":{\"colorbar\":{\"outlinewidth\":0,\"ticks\":\"\"}}}],\"scatter3d\":[{\"type\":\"scatter3d\",\"line\":{\"colorbar\":{\"outlinewidth\":0,\"ticks\":\"\"}},\"marker\":{\"colorbar\":{\"outlinewidth\":0,\"ticks\":\"\"}}}],\"scattermapbox\":[{\"type\":\"scattermapbox\",\"marker\":{\"colorbar\":{\"outlinewidth\":0,\"ticks\":\"\"}}}],\"scatterternary\":[{\"type\":\"scatterternary\",\"marker\":{\"colorbar\":{\"outlinewidth\":0,\"ticks\":\"\"}}}],\"scattercarpet\":[{\"type\":\"scattercarpet\",\"marker\":{\"colorbar\":{\"outlinewidth\":0,\"ticks\":\"\"}}}],\"carpet\":[{\"aaxis\":{\"endlinecolor\":\"#2a3f5f\",\"gridcolor\":\"white\",\"linecolor\":\"white\",\"minorgridcolor\":\"white\",\"startlinecolor\":\"#2a3f5f\"},\"baxis\":{\"endlinecolor\":\"#2a3f5f\",\"gridcolor\":\"white\",\"linecolor\":\"white\",\"minorgridcolor\":\"white\",\"startlinecolor\":\"#2a3f5f\"},\"type\":\"carpet\"}],\"table\":[{\"cells\":{\"fill\":{\"color\":\"#EBF0F8\"},\"line\":{\"color\":\"white\"}},\"header\":{\"fill\":{\"color\":\"#C8D4E3\"},\"line\":{\"color\":\"white\"}},\"type\":\"table\"}],\"barpolar\":[{\"marker\":{\"line\":{\"color\":\"#E5ECF6\",\"width\":0.5},\"pattern\":{\"fillmode\":\"overlay\",\"size\":10,\"solidity\":0.2}},\"type\":\"barpolar\"}],\"pie\":[{\"automargin\":true,\"type\":\"pie\"}]},\"layout\":{\"autotypenumbers\":\"strict\",\"colorway\":[\"#636efa\",\"#EF553B\",\"#00cc96\",\"#ab63fa\",\"#FFA15A\",\"#19d3f3\",\"#FF6692\",\"#B6E880\",\"#FF97FF\",\"#FECB52\"],\"font\":{\"color\":\"#2a3f5f\"},\"hovermode\":\"closest\",\"hoverlabel\":{\"align\":\"left\"},\"paper_bgcolor\":\"white\",\"plot_bgcolor\":\"#E5ECF6\",\"polar\":{\"bgcolor\":\"#E5ECF6\",\"angularaxis\":{\"gridcolor\":\"white\",\"linecolor\":\"white\",\"ticks\":\"\"},\"radialaxis\":{\"gridcolor\":\"white\",\"linecolor\":\"white\",\"ticks\":\"\"}},\"ternary\":{\"bgcolor\":\"#E5ECF6\",\"aaxis\":{\"gridcolor\":\"white\",\"linecolor\":\"white\",\"ticks\":\"\"},\"baxis\":{\"gridcolor\":\"white\",\"linecolor\":\"white\",\"ticks\":\"\"},\"caxis\":{\"gridcolor\":\"white\",\"linecolor\":\"white\",\"ticks\":\"\"}},\"coloraxis\":{\"colorbar\":{\"outlinewidth\":0,\"ticks\":\"\"}},\"colorscale\":{\"sequential\":[[0.0,\"#0d0887\"],[0.1111111111111111,\"#46039f\"],[0.2222222222222222,\"#7201a8\"],[0.3333333333333333,\"#9c179e\"],[0.4444444444444444,\"#bd3786\"],[0.5555555555555556,\"#d8576b\"],[0.6666666666666666,\"#ed7953\"],[0.7777777777777778,\"#fb9f3a\"],[0.8888888888888888,\"#fdca26\"],[1.0,\"#f0f921\"]],\"sequentialminus\":[[0.0,\"#0d0887\"],[0.1111111111111111,\"#46039f\"],[0.2222222222222222,\"#7201a8\"],[0.3333333333333333,\"#9c179e\"],[0.4444444444444444,\"#bd3786\"],[0.5555555555555556,\"#d8576b\"],[0.6666666666666666,\"#ed7953\"],[0.7777777777777778,\"#fb9f3a\"],[0.8888888888888888,\"#fdca26\"],[1.0,\"#f0f921\"]],\"diverging\":[[0,\"#8e0152\"],[0.1,\"#c51b7d\"],[0.2,\"#de77ae\"],[0.3,\"#f1b6da\"],[0.4,\"#fde0ef\"],[0.5,\"#f7f7f7\"],[0.6,\"#e6f5d0\"],[0.7,\"#b8e186\"],[0.8,\"#7fbc41\"],[0.9,\"#4d9221\"],[1,\"#276419\"]]},\"xaxis\":{\"gridcolor\":\"white\",\"linecolor\":\"white\",\"ticks\":\"\",\"title\":{\"standoff\":15},\"zerolinecolor\":\"white\",\"automargin\":true,\"zerolinewidth\":2},\"yaxis\":{\"gridcolor\":\"white\",\"linecolor\":\"white\",\"ticks\":\"\",\"title\":{\"standoff\":15},\"zerolinecolor\":\"white\",\"automargin\":true,\"zerolinewidth\":2},\"scene\":{\"xaxis\":{\"backgroundcolor\":\"#E5ECF6\",\"gridcolor\":\"white\",\"linecolor\":\"white\",\"showbackground\":true,\"ticks\":\"\",\"zerolinecolor\":\"white\",\"gridwidth\":2},\"yaxis\":{\"backgroundcolor\":\"#E5ECF6\",\"gridcolor\":\"white\",\"linecolor\":\"white\",\"showbackground\":true,\"ticks\":\"\",\"zerolinecolor\":\"white\",\"gridwidth\":2},\"zaxis\":{\"backgroundcolor\":\"#E5ECF6\",\"gridcolor\":\"white\",\"linecolor\":\"white\",\"showbackground\":true,\"ticks\":\"\",\"zerolinecolor\":\"white\",\"gridwidth\":2}},\"shapedefaults\":{\"line\":{\"color\":\"#2a3f5f\"}},\"annotationdefaults\":{\"arrowcolor\":\"#2a3f5f\",\"arrowhead\":0,\"arrowwidth\":1},\"geo\":{\"bgcolor\":\"white\",\"landcolor\":\"#E5ECF6\",\"subunitcolor\":\"white\",\"showland\":true,\"showlakes\":true,\"lakecolor\":\"white\"},\"title\":{\"x\":0.05},\"mapbox\":{\"style\":\"light\"}}},\"title\":{\"text\":\"Proportion\"}},                        {\"responsive\": true}                    ).then(function(){\n",
              "                            \n",
              "var gd = document.getElementById('c895c386-a712-4f57-98d4-e86a628c391a');\n",
              "var x = new MutationObserver(function (mutations, observer) {{\n",
              "        var display = window.getComputedStyle(gd).display;\n",
              "        if (!display || display === 'none') {{\n",
              "            console.log([gd, 'removed!']);\n",
              "            Plotly.purge(gd);\n",
              "            observer.disconnect();\n",
              "        }}\n",
              "}});\n",
              "\n",
              "// Listen for the removal of the full notebook cells\n",
              "var notebookContainer = gd.closest('#notebook-container');\n",
              "if (notebookContainer) {{\n",
              "    x.observe(notebookContainer, {childList: true});\n",
              "}}\n",
              "\n",
              "// Listen for the clearing of the current output cell\n",
              "var outputEl = gd.closest('.output');\n",
              "if (outputEl) {{\n",
              "    x.observe(outputEl, {childList: true});\n",
              "}}\n",
              "\n",
              "                        })                };                            </script>        </div>\n",
              "</body>\n",
              "</html>"
            ]
          },
          "metadata": {}
        }
      ],
      "source": [
        "import plotly.graph_objects as go\n",
        "fig = go.Figure(data=go.Pie(labels=df_summary['Description'],\n",
        "                            values=df_summary['Count'],\n",
        "                            textinfo='label+percent',\n",
        "                            hole=0.4))\n",
        "fig.update_layout(title='Proportion')\n",
        "\n",
        "fig.show()"
      ]
    },
    {
      "cell_type": "markdown",
      "id": "33d04d49-1fbe-44f2-9cb3-cdb0b7a60ccb",
      "metadata": {
        "id": "33d04d49-1fbe-44f2-9cb3-cdb0b7a60ccb"
      },
      "source": [
        "<font size ='5'>STEP 15: Let's compare our charge differences by specific delivery zones.</font>"
      ]
    },
    {
      "cell_type": "code",
      "execution_count": 24,
      "id": "294f86b9-7735-4d19-9a4a-18037acd06c6",
      "metadata": {
        "colab": {
          "base_uri": "https://localhost:8080/"
        },
        "id": "294f86b9-7735-4d19-9a4a-18037acd06c6",
        "outputId": "8432b7b3-f672-4669-be04-60d56f1220b4"
      },
      "outputs": [
        {
          "output_type": "stream",
          "name": "stdout",
          "text": [
            "     Order ID            SKU  Order Qty  Weight (g)  Customer Pincode_x  \\\n",
            "0  2001827036  8904223818706          1         127              173213   \n",
            "1  2001827036  8904223818706          1         127              173213   \n",
            "2  2001827036  8904223818706          1         127              173213   \n",
            "3  2001827036  8904223818706          1         127              173213   \n",
            "4  2001827036  8904223818706          1         127              173213   \n",
            "\n",
            "  Type of Shipment_x  Warehouse Pincode_x Delivery Zone As Per SIGMA  \\\n",
            "0    Forward charges               121003                          e   \n",
            "1    Forward charges               121003                          e   \n",
            "2    Forward charges               121003                          e   \n",
            "3    Forward charges               121003                          e   \n",
            "4    Forward charges               121003                          e   \n",
            "\n",
            "   Weights (Kgs)  Weight Slab As Per SIGMA  ...  Warehouse Pincode_y  \\\n",
            "0          0.127                       0.5  ...               121003   \n",
            "1          0.127                       0.5  ...               121003   \n",
            "2          0.127                       0.5  ...               121003   \n",
            "3          0.127                       0.5  ...               121003   \n",
            "4          0.127                       0.5  ...               121003   \n",
            "\n",
            "   Customer Pincode_y  Delivery Zone Charged by Courier Company  \\\n",
            "0              173213                                         b   \n",
            "1              173213                                         b   \n",
            "2              173213                                         b   \n",
            "3              173213                                         b   \n",
            "4              173213                                         b   \n",
            "\n",
            "   Type of Shipment_y  Billing Amount (NGN.)_x  \\\n",
            "0     Forward charges                   117900   \n",
            "1     Forward charges                   117900   \n",
            "2     Forward charges                   117900   \n",
            "3     Forward charges                   117900   \n",
            "4     Forward charges                   117900   \n",
            "\n",
            "  Weight Slab Charged by Courier Company Difference (NGN.)_x  \\\n",
            "0                                    2.0             21680.0   \n",
            "1                                    2.0             21680.0   \n",
            "2                                    2.0             21680.0   \n",
            "3                                    2.0             21680.0   \n",
            "4                                    2.0             21680.0   \n",
            "\n",
            "   Billing Amount (NGN.)_y  Expected Charge as per SIGMA_y  \\\n",
            "0                   117900                         96220.0   \n",
            "1                   117900                         96220.0   \n",
            "2                   117900                         96220.0   \n",
            "3                   117900                         96220.0   \n",
            "4                   117900                         96220.0   \n",
            "\n",
            "   Difference (NGN.)_y  \n",
            "0              21680.0  \n",
            "1              21680.0  \n",
            "2              21680.0  \n",
            "3              21680.0  \n",
            "4              21680.0  \n",
            "\n",
            "[5 rows x 23 columns]\n"
          ]
        }
      ],
      "source": [
        "'''\n",
        "FIRST, Let's merge \"merged_output\" DataFrame and \"df_new\" dataframe together to create a combined DataFrame that has the columns we need:\n",
        "columns 'Delivery Zone Charged by Courier Company' and 'Difference (NGN.)'. Let's name it 'merged_df'\n",
        "'''\n",
        "\n",
        "merged_df = pd.merge(merged_output, df_new, on='Order ID')\n",
        "print(merged_df.head())\n"
      ]
    },
    {
      "cell_type": "code",
      "execution_count": 25,
      "id": "fbc551a5-76ad-42b5-9696-0ba645cac319",
      "metadata": {
        "id": "fbc551a5-76ad-42b5-9696-0ba645cac319"
      },
      "outputs": [],
      "source": [
        "'''\n",
        "Then, we group our 'Difference (NGN.)_y' by 'Delivery Zone Charged by Courier Company'\n",
        "'''\n",
        "\n",
        "zone_differences = merged_df.groupby('Delivery Zone Charged by Courier Company')['Difference (NGN.)_y'].mean().reset_index()\n"
      ]
    },
    {
      "cell_type": "code",
      "execution_count": 26,
      "id": "0e6fadde-598b-4821-82be-22e1b4507f15",
      "metadata": {
        "colab": {
          "base_uri": "https://localhost:8080/",
          "height": 542
        },
        "id": "0e6fadde-598b-4821-82be-22e1b4507f15",
        "outputId": "c72a582f-1db7-4877-bea5-183b2ee1713a"
      },
      "outputs": [
        {
          "output_type": "display_data",
          "data": {
            "text/html": [
              "<html>\n",
              "<head><meta charset=\"utf-8\" /></head>\n",
              "<body>\n",
              "    <div>            <script src=\"https://cdnjs.cloudflare.com/ajax/libs/mathjax/2.7.5/MathJax.js?config=TeX-AMS-MML_SVG\"></script><script type=\"text/javascript\">if (window.MathJax && window.MathJax.Hub && window.MathJax.Hub.Config) {window.MathJax.Hub.Config({SVG: {font: \"STIX-Web\"}});}</script>                <script type=\"text/javascript\">window.PlotlyConfig = {MathJaxConfig: 'local'};</script>\n",
              "        <script charset=\"utf-8\" src=\"https://cdn.plot.ly/plotly-2.35.2.min.js\"></script>                <div id=\"b36367d8-742b-4e9d-af3b-897e96497216\" class=\"plotly-graph-div\" style=\"height:525px; width:100%;\"></div>            <script type=\"text/javascript\">                                    window.PLOTLYENV=window.PLOTLYENV || {};                                    if (document.getElementById(\"b36367d8-742b-4e9d-af3b-897e96497216\")) {                    Plotly.newPlot(                        \"b36367d8-742b-4e9d-af3b-897e96497216\",                        [{\"alignmentgroup\":\"True\",\"hovertemplate\":\"Delivery Zone Charged by Courier Company=%{x}\\u003cbr\\u003eAverage Charge Differences (NGN)=%{y}\\u003cextra\\u003e\\u003c\\u002fextra\\u003e\",\"legendgroup\":\"\",\"marker\":{\"color\":\"#636efa\",\"pattern\":{\"shape\":\"\"}},\"name\":\"\",\"offsetgroup\":\"\",\"orientation\":\"v\",\"showlegend\":false,\"textposition\":\"auto\",\"x\":[\"b\",\"d\",\"e\"],\"xaxis\":\"x\",\"y\":[30029.28746928747,93128.08494208494,84603.07692307692],\"yaxis\":\"y\",\"type\":\"bar\"}],                        {\"template\":{\"data\":{\"histogram2dcontour\":[{\"type\":\"histogram2dcontour\",\"colorbar\":{\"outlinewidth\":0,\"ticks\":\"\"},\"colorscale\":[[0.0,\"#0d0887\"],[0.1111111111111111,\"#46039f\"],[0.2222222222222222,\"#7201a8\"],[0.3333333333333333,\"#9c179e\"],[0.4444444444444444,\"#bd3786\"],[0.5555555555555556,\"#d8576b\"],[0.6666666666666666,\"#ed7953\"],[0.7777777777777778,\"#fb9f3a\"],[0.8888888888888888,\"#fdca26\"],[1.0,\"#f0f921\"]]}],\"choropleth\":[{\"type\":\"choropleth\",\"colorbar\":{\"outlinewidth\":0,\"ticks\":\"\"}}],\"histogram2d\":[{\"type\":\"histogram2d\",\"colorbar\":{\"outlinewidth\":0,\"ticks\":\"\"},\"colorscale\":[[0.0,\"#0d0887\"],[0.1111111111111111,\"#46039f\"],[0.2222222222222222,\"#7201a8\"],[0.3333333333333333,\"#9c179e\"],[0.4444444444444444,\"#bd3786\"],[0.5555555555555556,\"#d8576b\"],[0.6666666666666666,\"#ed7953\"],[0.7777777777777778,\"#fb9f3a\"],[0.8888888888888888,\"#fdca26\"],[1.0,\"#f0f921\"]]}],\"heatmap\":[{\"type\":\"heatmap\",\"colorbar\":{\"outlinewidth\":0,\"ticks\":\"\"},\"colorscale\":[[0.0,\"#0d0887\"],[0.1111111111111111,\"#46039f\"],[0.2222222222222222,\"#7201a8\"],[0.3333333333333333,\"#9c179e\"],[0.4444444444444444,\"#bd3786\"],[0.5555555555555556,\"#d8576b\"],[0.6666666666666666,\"#ed7953\"],[0.7777777777777778,\"#fb9f3a\"],[0.8888888888888888,\"#fdca26\"],[1.0,\"#f0f921\"]]}],\"heatmapgl\":[{\"type\":\"heatmapgl\",\"colorbar\":{\"outlinewidth\":0,\"ticks\":\"\"},\"colorscale\":[[0.0,\"#0d0887\"],[0.1111111111111111,\"#46039f\"],[0.2222222222222222,\"#7201a8\"],[0.3333333333333333,\"#9c179e\"],[0.4444444444444444,\"#bd3786\"],[0.5555555555555556,\"#d8576b\"],[0.6666666666666666,\"#ed7953\"],[0.7777777777777778,\"#fb9f3a\"],[0.8888888888888888,\"#fdca26\"],[1.0,\"#f0f921\"]]}],\"contourcarpet\":[{\"type\":\"contourcarpet\",\"colorbar\":{\"outlinewidth\":0,\"ticks\":\"\"}}],\"contour\":[{\"type\":\"contour\",\"colorbar\":{\"outlinewidth\":0,\"ticks\":\"\"},\"colorscale\":[[0.0,\"#0d0887\"],[0.1111111111111111,\"#46039f\"],[0.2222222222222222,\"#7201a8\"],[0.3333333333333333,\"#9c179e\"],[0.4444444444444444,\"#bd3786\"],[0.5555555555555556,\"#d8576b\"],[0.6666666666666666,\"#ed7953\"],[0.7777777777777778,\"#fb9f3a\"],[0.8888888888888888,\"#fdca26\"],[1.0,\"#f0f921\"]]}],\"surface\":[{\"type\":\"surface\",\"colorbar\":{\"outlinewidth\":0,\"ticks\":\"\"},\"colorscale\":[[0.0,\"#0d0887\"],[0.1111111111111111,\"#46039f\"],[0.2222222222222222,\"#7201a8\"],[0.3333333333333333,\"#9c179e\"],[0.4444444444444444,\"#bd3786\"],[0.5555555555555556,\"#d8576b\"],[0.6666666666666666,\"#ed7953\"],[0.7777777777777778,\"#fb9f3a\"],[0.8888888888888888,\"#fdca26\"],[1.0,\"#f0f921\"]]}],\"mesh3d\":[{\"type\":\"mesh3d\",\"colorbar\":{\"outlinewidth\":0,\"ticks\":\"\"}}],\"scatter\":[{\"fillpattern\":{\"fillmode\":\"overlay\",\"size\":10,\"solidity\":0.2},\"type\":\"scatter\"}],\"parcoords\":[{\"type\":\"parcoords\",\"line\":{\"colorbar\":{\"outlinewidth\":0,\"ticks\":\"\"}}}],\"scatterpolargl\":[{\"type\":\"scatterpolargl\",\"marker\":{\"colorbar\":{\"outlinewidth\":0,\"ticks\":\"\"}}}],\"bar\":[{\"error_x\":{\"color\":\"#2a3f5f\"},\"error_y\":{\"color\":\"#2a3f5f\"},\"marker\":{\"line\":{\"color\":\"#E5ECF6\",\"width\":0.5},\"pattern\":{\"fillmode\":\"overlay\",\"size\":10,\"solidity\":0.2}},\"type\":\"bar\"}],\"scattergeo\":[{\"type\":\"scattergeo\",\"marker\":{\"colorbar\":{\"outlinewidth\":0,\"ticks\":\"\"}}}],\"scatterpolar\":[{\"type\":\"scatterpolar\",\"marker\":{\"colorbar\":{\"outlinewidth\":0,\"ticks\":\"\"}}}],\"histogram\":[{\"marker\":{\"pattern\":{\"fillmode\":\"overlay\",\"size\":10,\"solidity\":0.2}},\"type\":\"histogram\"}],\"scattergl\":[{\"type\":\"scattergl\",\"marker\":{\"colorbar\":{\"outlinewidth\":0,\"ticks\":\"\"}}}],\"scatter3d\":[{\"type\":\"scatter3d\",\"line\":{\"colorbar\":{\"outlinewidth\":0,\"ticks\":\"\"}},\"marker\":{\"colorbar\":{\"outlinewidth\":0,\"ticks\":\"\"}}}],\"scattermapbox\":[{\"type\":\"scattermapbox\",\"marker\":{\"colorbar\":{\"outlinewidth\":0,\"ticks\":\"\"}}}],\"scatterternary\":[{\"type\":\"scatterternary\",\"marker\":{\"colorbar\":{\"outlinewidth\":0,\"ticks\":\"\"}}}],\"scattercarpet\":[{\"type\":\"scattercarpet\",\"marker\":{\"colorbar\":{\"outlinewidth\":0,\"ticks\":\"\"}}}],\"carpet\":[{\"aaxis\":{\"endlinecolor\":\"#2a3f5f\",\"gridcolor\":\"white\",\"linecolor\":\"white\",\"minorgridcolor\":\"white\",\"startlinecolor\":\"#2a3f5f\"},\"baxis\":{\"endlinecolor\":\"#2a3f5f\",\"gridcolor\":\"white\",\"linecolor\":\"white\",\"minorgridcolor\":\"white\",\"startlinecolor\":\"#2a3f5f\"},\"type\":\"carpet\"}],\"table\":[{\"cells\":{\"fill\":{\"color\":\"#EBF0F8\"},\"line\":{\"color\":\"white\"}},\"header\":{\"fill\":{\"color\":\"#C8D4E3\"},\"line\":{\"color\":\"white\"}},\"type\":\"table\"}],\"barpolar\":[{\"marker\":{\"line\":{\"color\":\"#E5ECF6\",\"width\":0.5},\"pattern\":{\"fillmode\":\"overlay\",\"size\":10,\"solidity\":0.2}},\"type\":\"barpolar\"}],\"pie\":[{\"automargin\":true,\"type\":\"pie\"}]},\"layout\":{\"autotypenumbers\":\"strict\",\"colorway\":[\"#636efa\",\"#EF553B\",\"#00cc96\",\"#ab63fa\",\"#FFA15A\",\"#19d3f3\",\"#FF6692\",\"#B6E880\",\"#FF97FF\",\"#FECB52\"],\"font\":{\"color\":\"#2a3f5f\"},\"hovermode\":\"closest\",\"hoverlabel\":{\"align\":\"left\"},\"paper_bgcolor\":\"white\",\"plot_bgcolor\":\"#E5ECF6\",\"polar\":{\"bgcolor\":\"#E5ECF6\",\"angularaxis\":{\"gridcolor\":\"white\",\"linecolor\":\"white\",\"ticks\":\"\"},\"radialaxis\":{\"gridcolor\":\"white\",\"linecolor\":\"white\",\"ticks\":\"\"}},\"ternary\":{\"bgcolor\":\"#E5ECF6\",\"aaxis\":{\"gridcolor\":\"white\",\"linecolor\":\"white\",\"ticks\":\"\"},\"baxis\":{\"gridcolor\":\"white\",\"linecolor\":\"white\",\"ticks\":\"\"},\"caxis\":{\"gridcolor\":\"white\",\"linecolor\":\"white\",\"ticks\":\"\"}},\"coloraxis\":{\"colorbar\":{\"outlinewidth\":0,\"ticks\":\"\"}},\"colorscale\":{\"sequential\":[[0.0,\"#0d0887\"],[0.1111111111111111,\"#46039f\"],[0.2222222222222222,\"#7201a8\"],[0.3333333333333333,\"#9c179e\"],[0.4444444444444444,\"#bd3786\"],[0.5555555555555556,\"#d8576b\"],[0.6666666666666666,\"#ed7953\"],[0.7777777777777778,\"#fb9f3a\"],[0.8888888888888888,\"#fdca26\"],[1.0,\"#f0f921\"]],\"sequentialminus\":[[0.0,\"#0d0887\"],[0.1111111111111111,\"#46039f\"],[0.2222222222222222,\"#7201a8\"],[0.3333333333333333,\"#9c179e\"],[0.4444444444444444,\"#bd3786\"],[0.5555555555555556,\"#d8576b\"],[0.6666666666666666,\"#ed7953\"],[0.7777777777777778,\"#fb9f3a\"],[0.8888888888888888,\"#fdca26\"],[1.0,\"#f0f921\"]],\"diverging\":[[0,\"#8e0152\"],[0.1,\"#c51b7d\"],[0.2,\"#de77ae\"],[0.3,\"#f1b6da\"],[0.4,\"#fde0ef\"],[0.5,\"#f7f7f7\"],[0.6,\"#e6f5d0\"],[0.7,\"#b8e186\"],[0.8,\"#7fbc41\"],[0.9,\"#4d9221\"],[1,\"#276419\"]]},\"xaxis\":{\"gridcolor\":\"white\",\"linecolor\":\"white\",\"ticks\":\"\",\"title\":{\"standoff\":15},\"zerolinecolor\":\"white\",\"automargin\":true,\"zerolinewidth\":2},\"yaxis\":{\"gridcolor\":\"white\",\"linecolor\":\"white\",\"ticks\":\"\",\"title\":{\"standoff\":15},\"zerolinecolor\":\"white\",\"automargin\":true,\"zerolinewidth\":2},\"scene\":{\"xaxis\":{\"backgroundcolor\":\"#E5ECF6\",\"gridcolor\":\"white\",\"linecolor\":\"white\",\"showbackground\":true,\"ticks\":\"\",\"zerolinecolor\":\"white\",\"gridwidth\":2},\"yaxis\":{\"backgroundcolor\":\"#E5ECF6\",\"gridcolor\":\"white\",\"linecolor\":\"white\",\"showbackground\":true,\"ticks\":\"\",\"zerolinecolor\":\"white\",\"gridwidth\":2},\"zaxis\":{\"backgroundcolor\":\"#E5ECF6\",\"gridcolor\":\"white\",\"linecolor\":\"white\",\"showbackground\":true,\"ticks\":\"\",\"zerolinecolor\":\"white\",\"gridwidth\":2}},\"shapedefaults\":{\"line\":{\"color\":\"#2a3f5f\"}},\"annotationdefaults\":{\"arrowcolor\":\"#2a3f5f\",\"arrowhead\":0,\"arrowwidth\":1},\"geo\":{\"bgcolor\":\"white\",\"landcolor\":\"#E5ECF6\",\"subunitcolor\":\"white\",\"showland\":true,\"showlakes\":true,\"lakecolor\":\"white\"},\"title\":{\"x\":0.05},\"mapbox\":{\"style\":\"light\"}}},\"xaxis\":{\"anchor\":\"y\",\"domain\":[0.0,1.0],\"title\":{\"text\":\"Delivery Zone Charged by Courier Company\"}},\"yaxis\":{\"anchor\":\"x\",\"domain\":[0.0,1.0],\"title\":{\"text\":\"Average Charge Differences (NGN)\"}},\"legend\":{\"tracegroupgap\":0},\"title\":{\"text\":\"Average Charge Differences by Courier Delivery Zone\"},\"barmode\":\"relative\"},                        {\"responsive\": true}                    ).then(function(){\n",
              "                            \n",
              "var gd = document.getElementById('b36367d8-742b-4e9d-af3b-897e96497216');\n",
              "var x = new MutationObserver(function (mutations, observer) {{\n",
              "        var display = window.getComputedStyle(gd).display;\n",
              "        if (!display || display === 'none') {{\n",
              "            console.log([gd, 'removed!']);\n",
              "            Plotly.purge(gd);\n",
              "            observer.disconnect();\n",
              "        }}\n",
              "}});\n",
              "\n",
              "// Listen for the removal of the full notebook cells\n",
              "var notebookContainer = gd.closest('#notebook-container');\n",
              "if (notebookContainer) {{\n",
              "    x.observe(notebookContainer, {childList: true});\n",
              "}}\n",
              "\n",
              "// Listen for the clearing of the current output cell\n",
              "var outputEl = gd.closest('.output');\n",
              "if (outputEl) {{\n",
              "    x.observe(outputEl, {childList: true});\n",
              "}}\n",
              "\n",
              "                        })                };                            </script>        </div>\n",
              "</body>\n",
              "</html>"
            ]
          },
          "metadata": {}
        }
      ],
      "source": [
        "'''\n",
        "Let's use plotly.express to create a bar chart for our charge differences accross delivery zone.\n",
        "'''\n",
        "import plotly.express as px\n",
        "\n",
        "fig = px.bar(zone_differences,\n",
        "             x='Delivery Zone Charged by Courier Company',\n",
        "             y='Difference (NGN.)_y',\n",
        "             title='Average Charge Differences by Courier Delivery Zone',\n",
        "             labels={'Difference (NGN.)_y': 'Average Charge Differences (NGN)'})\n",
        "\n",
        "fig.show()"
      ]
    },
    {
      "cell_type": "code",
      "execution_count": 27,
      "id": "6db068c7-03e7-420f-9552-e251480a45e2",
      "metadata": {
        "colab": {
          "base_uri": "https://localhost:8080/",
          "height": 35
        },
        "id": "6db068c7-03e7-420f-9552-e251480a45e2",
        "outputId": "81ddcbd1-8099-42e6-f4a5-b48265331d78"
      },
      "outputs": [
        {
          "output_type": "execute_result",
          "data": {
            "text/plain": [
              "'\\nThe chart above shows us that delivery zones d and e were overcharged by courier companies.\\n'"
            ],
            "application/vnd.google.colaboratory.intrinsic+json": {
              "type": "string"
            }
          },
          "metadata": {},
          "execution_count": 27
        }
      ],
      "source": [
        "'''\n",
        "The chart above shows us that delivery zones d and e were overcharged by courier companies.\n",
        "'''"
      ]
    },
    {
      "cell_type": "markdown",
      "id": "a82a6221-d9c2-47c4-8961-ff187a713fd8",
      "metadata": {
        "id": "a82a6221-d9c2-47c4-8961-ff187a713fd8"
      },
      "source": [
        "<font size='5'>STEP 16: Let's create a scatter plot diagram showing the relationship between the 'Weight Slab as per SIGMA' and the 'Weight Slab charged by Courier Companies' which contributed to our charge differences.</font>"
      ]
    },
    {
      "cell_type": "code",
      "execution_count": 28,
      "id": "a85c8414-83b2-4cef-965c-b0117a61b29e",
      "metadata": {
        "colab": {
          "base_uri": "https://localhost:8080/",
          "height": 542
        },
        "id": "a85c8414-83b2-4cef-965c-b0117a61b29e",
        "outputId": "e46450e4-aae5-44fd-c78f-d546c5613103"
      },
      "outputs": [
        {
          "output_type": "display_data",
          "data": {
            "text/html": [
              "<html>\n",
              "<head><meta charset=\"utf-8\" /></head>\n",
              "<body>\n",
              "    <div>            <script src=\"https://cdnjs.cloudflare.com/ajax/libs/mathjax/2.7.5/MathJax.js?config=TeX-AMS-MML_SVG\"></script><script type=\"text/javascript\">if (window.MathJax && window.MathJax.Hub && window.MathJax.Hub.Config) {window.MathJax.Hub.Config({SVG: {font: \"STIX-Web\"}});}</script>                <script type=\"text/javascript\">window.PlotlyConfig = {MathJaxConfig: 'local'};</script>\n",
              "        <script charset=\"utf-8\" src=\"https://cdn.plot.ly/plotly-2.35.2.min.js\"></script>                <div id=\"5d989365-2b81-4401-a656-0405dd958f9a\" class=\"plotly-graph-div\" style=\"height:525px; width:100%;\"></div>            <script type=\"text/javascript\">                                    window.PLOTLYENV=window.PLOTLYENV || {};                                    if (document.getElementById(\"5d989365-2b81-4401-a656-0405dd958f9a\")) {                    Plotly.newPlot(                        \"5d989365-2b81-4401-a656-0405dd958f9a\",                        [{\"hovertemplate\":\"Weight Slab As Per SIGMA=%{x}\\u003cbr\\u003eWeight Slab Charged by Courier Company=%{y}\\u003cextra\\u003e\\u003c\\u002fextra\\u003e\",\"legendgroup\":\"\",\"marker\":{\"color\":\"#636efa\",\"symbol\":\"circle\"},\"mode\":\"markers\",\"name\":\"\",\"showlegend\":false,\"x\":[0.5,0.5,0.5,0.5,0.5,0.5,0.5,0.5,0.5,0.5,0.5,0.5,0.5,0.5,0.5,0.5,0.5,0.5,0.5,0.5,0.5,0.5,0.5,0.5,0.5,0.5,0.5,0.5,0.5,0.5,0.5,0.5,0.5,0.5,0.5,0.5,0.5,0.5,0.5,0.5,0.5,0.5,0.5,0.5,0.5,0.5,0.5,0.5,0.5,0.5,0.5,0.5,0.5,0.5,0.5,0.5,0.5,0.5,0.5,0.5,0.5,0.5,0.5,0.5,0.5,0.5,0.5,0.5,0.5,0.5,0.5,0.5,0.01,0.01,0.01,0.01,0.01,0.01,0.01,0.01,0.01,0.5,0.5,0.5,0.5,0.5,0.5,0.5,0.5,0.5,0.5,0.5,0.5,0.5,0.5,0.5,0.5,0.5,0.5,0.5,0.5,0.01,0.01,0.01,0.01,0.01,0.5,0.5,0.5,0.5,0.5,0.5,0.5,0.5,0.5,0.5,0.5,0.5,0.5,0.5,0.5,0.5,0.5,0.5,0.5,0.5,0.5,0.5,0.5,0.5,0.5,0.5,0.5,0.5,0.5,0.5,0.5,0.5,0.5,0.5,0.5,0.5,0.5,0.5,0.5,0.5,0.5,0.5,1.0,1.0,1.0,1.0,0.5,0.5,0.5,0.5,0.5,0.5,0.5,0.5,0.5,0.5,0.5,0.5,0.5,0.5,0.5,0.5,0.5,0.5,0.5,0.5,0.5,0.5,0.5,0.5,0.5,0.5,0.5,0.5,0.5,0.5,0.5,0.5,0.5,0.5,0.5,0.5,0.5,0.5,0.5,0.5,0.5,0.5,0.5,0.5,0.5,0.5,0.5,0.5,0.5,0.5,0.5,0.5,0.5,0.5,0.5,0.5,0.5,0.5,0.5,0.5,0.5,0.5,0.5,0.5,0.5,0.5,0.5,0.5,0.5,0.5,0.5,0.5,0.5,0.5,0.5,0.01,0.01,0.01,0.5,0.5,0.5,0.5,0.5,0.5,0.5,0.5,0.5,0.5,0.5,0.5,0.5,0.5,0.5,0.5,0.5,0.5,0.5,0.5,0.5,0.5,0.5,0.5,0.5,0.5,0.5,0.5,0.5,0.5,0.5,0.5,0.5,0.5,0.5,0.5,0.5,0.5,0.5,0.5,0.5,0.5,0.5,0.5,0.5,0.5,0.5,0.5,0.5,0.5,0.5,0.5,0.5,0.5,0.5,0.5,0.5,0.5,0.5,0.5,0.5,0.5,0.5,0.5,0.5,0.5,0.5,0.5,0.5,0.5,0.5,0.5,0.5,0.5,0.5,0.5,0.5,0.5,0.5,0.5,0.5,0.5,0.5,0.5,0.5,0.5,0.5,0.5,0.5,0.5,0.5,0.5,0.5,0.5,0.5,0.5,0.5,0.5,0.5,0.5,0.5,0.5,0.5,0.5,0.5,0.5,0.5,0.5,0.5,0.5,0.5,0.5,0.5,0.5,0.5,0.5,0.5,0.5,0.5,0.5,0.5,0.5,0.5,0.5,0.5,0.5,0.5,0.5,0.5,0.5,0.5,0.5,0.5,0.5,0.5,0.5,0.5,0.5,0.5,0.5,0.5,0.5,0.5,0.5,0.5,0.5,0.5,0.5,0.5,0.5,0.5,0.5,0.5,0.5,0.5,0.5,0.5,0.5,0.5,0.5,0.5,0.5,0.5,0.5,0.5,0.5,0.5,0.5,0.5,0.5,0.5,0.5,0.5,0.5,0.5,0.5,0.5,0.5,0.5,0.5,0.5,0.5,0.5,0.5,0.5,0.5,0.5,0.5,0.5,0.5,0.5,0.5,0.5,0.5,0.5,0.5,0.5,0.5,0.5,0.5,0.5,0.5,0.5,0.5,0.5,0.5,0.5,0.5,0.5,0.5,0.5,0.5,0.5,0.5,0.5,0.5,0.5,0.5,0.5,0.5,0.5,0.5,0.5,0.5,0.5,0.5,0.5,0.5,0.5,0.5,0.5,0.5,0.5,0.5,0.5,0.5,0.5,0.5,0.5,0.5,0.5,0.5,0.5,0.5,0.5,0.5,0.5,0.5,0.5,0.5,0.5,0.5,0.5,0.5,0.5,0.5,0.5,0.5,0.5,0.5,0.5,0.5,0.5,0.5,0.5,0.5,0.5,0.5,0.5,0.5,0.5,0.5,0.5,0.5,0.5,0.5,0.5,0.5,0.5,0.5,0.5,0.5,0.5,0.5,0.5,0.5,0.5,0.5,0.5,0.5,0.5,0.5,0.5,0.5,0.5,0.5,0.5,0.5,0.5,0.5,0.5,0.5,0.5,0.5,0.5,0.5,0.5,0.5,0.5,0.5,0.5,0.5,0.5,0.5,0.5,0.5,0.5,0.5,0.5,0.5,0.5,0.5,0.5,0.5,0.5,0.5,0.5,0.5,0.5,0.5,0.5,0.5,0.5,0.5,0.5,0.5,0.5,0.5,0.5,0.5,0.5,0.5,0.5,0.5,0.5,0.5,0.5,0.5,0.5,0.5,0.5,0.5,0.5,0.5,0.5,0.5,0.5,0.5,0.5,0.5,0.5,0.5,0.5,0.5,0.5,0.5,0.5,0.5,0.5,0.5,0.5,0.5,0.5,0.5,0.5,0.5,0.5,0.5,0.5,0.5,0.5,0.5,0.5,0.5,0.5,0.5,0.5,0.5,0.5,0.5,0.5,0.5,0.5,0.5,0.5,0.5,0.5,0.5,0.5,0.5,0.5,0.5,0.5,0.5,0.5,0.5,0.5,0.5,0.5,0.5,0.5,0.5,0.5,0.5,0.5,0.5,0.5,0.5,0.5,0.5,0.5,0.5,0.5,0.5,0.5,0.5,0.5,0.5,0.5,0.5,0.5,0.5,0.5,0.5,0.5,0.5,0.5,0.5,0.5,0.5,0.5,0.5,0.5,0.5,0.5,0.5,0.5,0.5,0.5,0.5,0.5,0.5,0.5,0.5,0.5,0.5,0.5,0.5,0.5,0.5,0.5,0.5,0.5,0.5,0.5,0.5,0.5,0.5,0.5,0.5,0.5,0.5,0.5,0.5,0.5,0.5,0.5,0.5,0.5,0.5,0.5,0.5,0.5,0.5,0.5,0.5,0.5,0.5,0.5,0.5,0.5,0.5,0.5,0.5,0.5,0.5,0.5,0.5,0.5,0.5,0.5,0.5,0.5,0.5,0.5,0.5,0.5,0.5,0.5,0.5,0.5,0.5,0.5,0.5,0.5,0.5,0.5,0.5,0.5,0.5,0.5,0.5,0.5,0.5,0.5,0.5,0.5,0.5,0.5,0.5,0.5,0.5,0.5,0.5,0.5,0.5,0.5,0.5,0.5,0.5,0.5,0.5,0.5,0.5,0.5,0.5,0.5,0.5,0.5,0.5,0.5,0.5,0.5,0.5,0.5,0.5,0.5,0.5,0.5,0.5,0.5,0.5,0.5,0.5,0.5,0.5,0.5,0.5,0.5,0.5,0.5,0.5,0.5,0.5,0.5,0.5,0.5,0.5,0.5,0.5,0.5,0.5,0.5,0.5,0.5,0.5,0.5,0.5,0.5,0.5,0.5,0.5,0.5,0.5,0.5,0.5,0.5,0.5,0.5,0.5,0.5,0.5,0.5,0.5,0.5,0.5,0.5,0.5,0.5,0.5,0.5,0.5,0.5,0.5,0.5,0.5,0.5,0.5,0.5,0.5,0.5,0.5,0.5,0.5,0.5,0.5,0.5,0.5,0.5,0.5,0.5,0.5,0.5,0.5,0.5,0.5,0.5,0.5,0.5,0.5,0.5,0.5,0.5,0.5,0.5,0.5,0.5,0.5,0.5,0.5,0.5,0.5,0.5,0.5,0.5,0.5,0.5,0.5,0.5,0.5,0.5,0.5,0.5,0.5,0.5,0.5,0.5,0.5,0.5,0.5,0.5,0.5,0.5,0.5,0.5,0.5,0.5,0.5,0.5,0.5,0.5,0.5,0.5,0.5,0.5,0.03,0.03,0.03,0.03,0.03,0.03,0.03,0.5,0.5,0.5,0.5,0.5,0.5,0.5,0.5,0.5,0.5,0.5,0.5,0.5,0.5,0.5,0.5,0.5,0.5,0.5,0.5,0.5,0.5,0.5,0.5,0.5,0.5,0.5,0.5,0.5,0.5,0.5,0.5,0.5,0.5,0.5,0.5,0.5,0.5,0.5,0.5,0.5,0.5,0.5,0.5,0.5,0.5,0.5,0.5,0.5,0.5,0.5,0.5,0.5,0.5,0.5,0.5,0.5,0.5,0.5,0.5,0.5,1.0,0.5,0.5,0.5,0.5,0.5,0.5,0.5,0.5,0.5,0.5,0.5,0.5,0.5,0.5,0.5,0.5,0.5,0.5,0.5,0.5,0.5,0.5,0.5,0.5,0.5,0.5,0.5,0.5,0.5,0.5,0.5,0.5,0.5,0.5,0.5,0.5,0.5,0.5,0.5,0.5,0.5,0.5,0.5,0.5,0.5,0.5,0.5,0.5,0.5,0.5,0.5,0.5,0.5,0.5,0.5,0.5,0.5,0.5,0.5,0.5,0.5,0.5,0.5,0.5,0.5,0.5,0.5,0.5,0.5,0.5,0.5,0.5,0.5,0.5,0.5,0.5,0.5,0.5,0.5,0.5,0.5,0.5,0.5,0.5,0.5,0.5,0.5,0.5,0.5,0.5,0.5,0.5,0.5,0.5,0.5,0.5,0.5,0.5,0.5,0.5,0.5,0.5,0.5,0.5,0.5,0.5,0.5,0.5,0.5,0.5,0.5,0.5,0.5,0.5,0.5,0.5,0.5,0.5,0.5,0.5,0.5,0.5,0.5,0.5,0.5,0.5,0.5,0.5,0.5,0.5,0.5,0.5,0.5,0.5,0.5,0.5,0.5,0.5,0.5,0.5,0.5,0.5,0.5,0.5,0.5,0.5,0.5,0.5,0.5,0.5,0.5,0.5,0.5,0.5,0.5,0.5,0.5,0.5,0.5,0.5,0.5,0.5,0.5,0.5,0.5,0.5,0.5,0.5,0.5,0.5,0.5,0.5,0.5,0.5,0.5,0.5,0.5,0.5,0.5,0.5,0.5,0.5,0.5,0.5,0.5,0.5,0.5,0.5,1.0,1.0,0.5,0.5,0.5,0.5,0.5,0.5,0.5,0.5,0.5,0.5,0.5,0.5,0.5,0.5,0.5,0.5,0.5,0.5,0.5,0.5,0.5,0.5,0.5,0.5,0.5,0.5,0.5,0.5,0.5,0.5,0.5,0.5,0.5,0.5,0.5,0.5,0.5,0.5,0.5,0.5,0.5,0.5,0.5,0.5,0.5,0.5,0.5,0.5,0.5,0.5,0.5,0.5,0.5,0.5,0.5,0.5,0.5,0.5,0.5,0.5,0.5,0.5,0.5,0.5,0.5,0.5,0.5,0.5,0.5,0.5,0.5,0.5,0.5,0.5,0.5,0.5,0.5,0.5,0.5,0.5,0.5,0.5,0.5,0.5,0.5,0.5,0.5,0.5,0.5,0.5,0.5,0.5,0.5,0.5,0.5,0.5,0.5,0.5,0.5,0.5,0.5,0.5,0.5,0.5,0.5,0.5,0.5,0.5,0.5,0.5,0.5,0.5,0.5,0.5,0.5,0.5,0.5,0.5,0.5,0.5,0.5,0.5,0.5,0.5,0.5,0.5,0.5,0.5,0.5,0.5,0.5,0.5,0.5,0.5,0.5,0.5,0.5,0.5,0.5,0.5,0.5,0.5,0.5,0.5,0.5,0.5,0.5,0.5,0.5,0.5,0.5,0.5,0.5,0.5,0.5,0.5,0.5,0.5,0.5,0.5,0.5,0.5,0.5,0.5,0.5,0.5,0.5,0.5,0.5,0.5,0.5,0.5,0.5,0.5,0.5,0.5,0.5,0.5,0.5,0.5,0.5,0.5,0.5,0.5,0.5,0.5,0.5,0.5,0.5,0.5,0.5,0.5,0.5,0.5,0.5,0.5,0.5,0.5,0.5,0.5,0.5,0.5,0.5,0.5,0.5,0.5,0.5,0.5,0.5,0.5,0.5,0.5,0.5,0.5,0.5,0.5,0.5,0.5,0.5,0.5,0.5,0.5,0.5,0.5,0.5,0.5,0.5,0.5,0.5,0.5,0.5,0.5,0.5,0.5,0.5,0.5,0.5,0.5,0.5,0.5,0.5,0.5,0.5,0.5,0.5,0.5,0.5,0.5,0.5,0.5,0.5,0.5,0.5,0.5,0.5,0.5,0.5,0.5,0.5,0.5,0.5,0.5,0.5,0.5,0.5,0.5,0.5,0.5,0.5,0.5,0.5,0.5,0.5,0.5,0.5,0.5,0.5,0.5,0.5,0.5,0.5,0.5,0.5,0.5,0.5,0.5,0.5,0.5,0.5,0.5,0.5,0.5,0.5,0.5,0.5,0.5,0.5,0.5,0.5,0.5,0.5,0.5,0.5,0.5,0.5,0.5,0.5,0.5,0.5,0.5,0.5,0.5,0.5,0.5,0.5,0.5,0.5,0.5,0.5,0.5,0.5,0.5,0.5,0.5,0.5,0.5,0.5,0.5,0.5,0.5,0.5,0.5,0.5,0.5,0.5,0.5,0.5,0.5,0.5,0.5,0.5,0.5,0.5,0.5,0.5,0.5,0.5,0.5,0.5,0.5,0.5,0.5,0.5,0.5,0.5,0.5,0.5,0.5,0.5,0.5,0.5,0.5,0.5,0.5,0.5,0.5,0.5,0.5,0.5,0.5,0.5,0.5,0.5,0.5,0.5,0.5,0.5,0.5,0.5,0.5,0.5,0.5,0.5,0.5,0.5,0.5,0.5,0.5,0.5,0.5,0.5,0.5,0.5,0.5,0.5,0.5,0.5,0.5,0.5,0.5,0.5,0.5,0.5,0.5,0.5,0.5,0.5,0.5,0.5,0.5,0.5,0.5,0.5,0.5,0.5,0.5,0.5,0.5,0.5,0.5,0.5,0.5,0.5,0.5,0.5,0.5,0.5,0.5,0.5,0.5,0.5,0.5,0.5,0.5,0.5,0.5,0.5,0.5,0.5,0.5,0.5,0.5,0.5,0.5,0.5,0.5,0.5,0.5,0.5,0.5,0.5,0.5,0.5,0.5,0.5,0.5,0.5,0.5,0.5,0.5,0.5,0.5,0.5,0.5,0.5,1.0,1.0,1.0,1.0,0.5,0.5,0.5,0.5,0.5,0.5,0.5,0.5,0.5,0.5,0.5,0.5,0.5,0.5,0.5,0.5,0.5,0.5,0.5,0.5,0.5,0.5,0.5,0.5,0.5,0.5,0.5,0.5,0.5,0.5,0.5,0.5,0.5,0.5,0.5,0.5,0.5,0.5,0.5,0.5,0.5,0.5,0.5,0.5,0.5,0.5,0.5,0.5,0.5,0.5,0.5,0.5,0.5,0.5,0.5,0.5,0.5,0.5,0.5,0.5,0.5,0.5,0.5,0.5,0.5,0.5,0.5,0.5,0.5,0.5,0.5,0.5],\"xaxis\":\"x\",\"y\":[2.0,2.0,2.0,2.0,2.0,2.0,2.0,2.0,2.0,2.0,2.0,2.0,2.0,2.0,2.0,2.0,2.0,2.0,2.0,2.0,2.0,2.0,2.0,2.0,2.0,2.0,2.0,2.0,2.0,2.0,2.0,2.0,2.0,2.0,2.0,2.0,2.0,2.0,2.0,2.0,2.0,2.0,2.0,2.0,2.0,2.0,2.0,2.0,2.0,2.0,2.0,2.0,2.0,2.0,2.0,2.0,2.0,2.0,2.0,2.0,2.0,2.0,2.0,2.0,2.0,2.0,2.0,2.0,2.0,2.0,2.0,2.0,2.0,2.0,2.0,2.0,2.0,2.0,2.0,2.0,2.0,2.0,2.0,2.0,2.0,2.0,2.0,2.0,2.0,2.0,2.0,2.0,2.0,2.0,2.0,2.0,2.0,2.0,2.0,2.0,2.0,2.0,2.0,2.0,2.0,2.0,1.0,1.0,1.0,1.0,1.0,1.0,1.0,1.0,1.0,1.5,1.5,1.5,1.5,0.5,0.5,0.5,0.5,0.5,1.0,1.0,1.0,1.0,1.0,1.0,1.0,1.0,1.0,0.5,0.5,1.0,1.0,1.0,1.0,1.0,1.0,1.0,1.0,1.0,0.5,0.5,0.5,0.5,1.5,1.5,1.5,1.5,2.5,2.5,2.5,2.5,2.5,2.5,2.5,2.5,2.5,2.5,2.5,2.5,2.5,2.5,2.5,2.5,2.5,2.5,2.5,2.5,2.5,2.5,2.5,2.5,2.5,2.5,2.5,2.5,2.5,2.5,2.5,2.5,2.5,2.5,2.5,2.5,2.5,2.5,2.5,2.5,2.5,2.5,2.5,2.5,2.5,2.5,2.5,2.5,2.5,2.5,2.5,2.5,2.5,2.5,2.5,2.5,2.5,2.5,2.5,2.5,2.5,2.5,2.5,2.5,0.5,0.5,0.5,0.5,0.5,0.5,0.5,0.5,0.5,0.5,0.5,0.5,0.5,0.5,1.0,1.0,1.0,1.0,1.0,1.0,1.0,1.0,1.0,1.0,1.0,1.0,1.0,1.5,1.5,1.5,1.5,1.5,1.5,1.5,1.5,1.5,1.5,1.5,1.5,1.5,1.5,1.5,1.5,1.5,1.5,1.5,1.5,1.5,1.5,1.5,1.5,1.5,1.5,1.5,1.5,1.5,1.5,1.5,1.5,1.5,1.5,1.5,1.5,1.5,1.5,1.5,1.5,1.5,1.5,1.5,1.5,1.5,1.5,1.5,1.5,1.5,1.5,1.5,1.5,1.5,1.5,1.5,1.5,1.5,1.5,1.5,1.5,1.5,1.5,1.5,1.5,0.5,0.5,0.5,0.5,0.5,0.5,0.5,0.5,0.5,1.0,1.0,1.0,1.0,1.0,1.0,1.0,1.0,1.0,1.0,1.0,1.0,1.0,0.5,0.5,0.5,0.5,0.5,1.0,1.0,1.0,1.0,1.0,1.0,1.0,1.0,1.0,1.0,1.0,1.0,1.0,1.0,1.0,1.0,1.0,1.0,1.0,1.0,1.0,1.0,1.0,1.0,1.0,1.0,1.0,1.0,1.0,1.0,1.0,1.0,1.0,1.0,3.0,3.0,3.0,3.0,3.0,3.0,3.0,3.0,3.0,3.0,3.0,3.0,3.0,3.0,3.0,3.0,3.0,3.0,3.0,3.0,3.0,3.0,3.0,3.0,3.0,3.0,3.0,3.0,3.0,3.0,3.0,3.0,3.0,3.0,3.0,3.0,3.0,3.0,3.0,3.0,3.0,3.0,3.0,3.0,3.0,3.0,3.0,3.0,3.0,3.0,3.0,3.0,3.0,3.0,3.0,3.0,3.0,3.0,3.0,3.0,3.0,3.0,3.0,3.0,1.0,1.0,1.0,1.0,1.0,1.0,1.0,1.0,1.0,1.0,1.0,1.0,1.0,1.0,1.0,1.0,1.0,0.5,0.5,0.5,0.5,0.5,0.5,0.5,0.5,0.5,1.0,1.0,1.0,1.0,1.0,1.0,1.0,1.0,1.0,0.5,0.5,0.5,0.5,0.5,0.5,0.5,0.5,0.5,0.5,0.5,0.5,0.5,0.5,0.5,0.5,1.0,1.0,1.0,1.0,1.0,1.0,1.0,1.0,1.0,1.0,1.0,1.0,1.0,1.0,1.0,1.0,1.0,1.0,1.0,1.0,1.0,1.0,1.0,1.0,1.0,1.5,1.5,1.5,1.5,1.5,1.5,1.5,1.5,1.5,1.5,1.5,1.5,1.5,1.5,1.5,1.5,0.5,0.5,0.5,0.5,0.5,0.5,0.5,0.5,0.5,0.5,0.5,0.5,0.5,0.5,0.5,0.5,1.0,1.0,1.0,1.0,1.0,1.0,1.0,1.0,1.0,1.5,1.5,1.5,1.5,1.5,1.5,1.5,1.5,1.5,1.5,1.5,1.5,1.5,1.5,1.5,1.5,1.5,1.5,1.5,1.5,1.5,1.5,1.5,1.5,1.5,1.5,1.5,1.5,1.5,1.5,1.5,1.5,1.5,1.5,1.5,1.5,1.0,1.0,1.0,1.0,1.0,1.0,1.0,1.0,1.0,1.0,1.0,1.0,1.0,1.0,1.0,1.0,1.0,1.0,1.0,1.0,1.0,1.0,1.0,1.0,1.0,1.0,1.0,2.5,2.5,2.5,2.5,2.5,2.5,2.5,2.5,2.5,2.0,2.0,2.0,2.0,2.0,2.0,2.0,2.0,2.0,2.0,2.0,2.0,2.0,2.0,2.0,2.0,1.0,1.0,1.0,1.0,1.0,1.0,1.0,1.0,1.0,1.0,1.0,1.0,1.0,1.0,1.0,1.0,1.0,1.0,1.0,1.0,1.0,1.0,1.0,1.0,1.0,1.0,1.0,1.0,1.0,1.0,1.0,1.0,1.0,1.0,1.0,1.0,1.0,1.0,1.0,1.0,3.0,3.0,3.0,3.0,3.0,3.0,3.0,3.0,3.0,3.0,3.0,3.0,3.0,3.0,3.0,3.0,3.0,3.0,3.0,3.0,3.0,3.0,3.0,3.0,3.0,3.0,3.0,3.0,3.0,3.0,3.0,3.0,3.0,3.0,3.0,3.0,3.0,3.0,3.0,3.0,3.0,3.0,3.0,3.0,3.0,3.0,3.0,3.0,3.0,3.0,3.0,3.0,3.0,3.0,3.0,3.0,3.0,3.0,3.0,3.0,3.0,3.0,3.0,3.0,3.0,3.0,3.0,3.0,3.0,3.0,3.0,3.0,3.0,3.0,3.0,3.0,3.0,3.0,3.0,3.0,3.0,3.0,3.0,3.0,3.0,3.0,3.0,3.0,3.0,3.0,3.0,3.0,3.0,3.0,3.0,3.0,3.0,3.0,3.0,3.0,3.0,3.0,3.0,3.0,3.0,3.0,3.0,3.0,3.0,3.0,3.0,3.0,3.0,3.0,3.0,3.0,3.0,3.0,3.0,3.0,3.0,3.0,3.0,3.0,3.0,3.0,3.0,3.0,3.0,3.0,3.0,3.0,3.0,3.0,3.0,3.0,3.0,3.0,3.0,3.0,3.0,3.0,3.0,3.0,3.0,3.0,3.0,3.0,3.0,3.0,3.0,3.0,3.0,3.0,3.0,3.0,3.0,3.0,3.0,3.0,3.0,3.0,3.0,3.0,3.0,3.0,3.0,3.0,3.0,3.0,3.0,3.0,3.0,3.0,3.0,3.0,3.0,3.0,3.0,3.0,3.0,3.0,3.0,3.0,3.0,3.0,3.0,3.0,3.0,3.0,3.0,3.0,3.0,3.0,3.0,3.0,1.5,1.5,1.5,1.5,1.5,1.5,1.5,1.5,1.5,1.5,1.5,1.5,1.5,1.5,1.5,1.5,1.5,1.5,1.5,1.5,1.5,1.5,1.5,1.5,1.5,1.5,1.5,1.5,1.5,1.5,1.5,1.5,1.5,1.5,1.5,1.5,1.5,1.5,1.5,1.5,1.5,1.5,1.5,1.5,1.5,1.5,1.5,1.5,1.5,1.5,1.5,1.5,1.5,1.5,1.5,1.5,1.5,1.5,1.5,1.5,1.5,1.5,1.5,1.5,1.5,0.5,0.5,0.5,0.5,0.5,0.5,0.5,0.5,0.5,1.0,1.0,1.0,1.0,1.0,1.0,1.0,1.0,1.0,1.0,1.0,1.0,1.0,1.0,1.0,1.0,1.0,1.0,1.0,1.0,1.0,1.0,1.0,1.0,1.0,1.0,1.0,1.0,1.0,1.0,1.0,1.0,1.0,1.0,1.0,1.0,2.5,1.0,1.0,1.0,1.0,1.0,1.0,1.0,1.0,1.0,1.0,1.0,1.0,1.0,1.0,1.0,1.0,2.0,2.0,2.0,2.0,1.0,1.0,1.0,1.0,1.0,1.0,1.0,1.0,1.0,1.5,1.5,1.5,1.5,1.5,1.5,1.5,1.5,1.5,1.5,1.5,1.5,1.5,1.5,1.5,1.5,1.5,1.5,1.5,1.5,1.5,1.5,1.5,1.5,1.5,1.5,1.5,1.5,1.5,1.5,1.5,1.5,1.5,1.5,1.5,1.5,1.0,1.0,1.0,1.0,1.0,1.0,1.0,1.0,1.0,1.0,1.0,1.0,1.0,1.0,1.0,1.0,1.0,1.0,1.0,1.0,1.0,1.0,1.0,1.0,1.0,1.0,1.0,1.0,1.0,1.0,1.0,0.5,0.5,0.5,0.5,1.0,1.0,1.0,1.0,1.0,1.0,1.0,1.0,1.0,1.0,1.0,1.0,1.0,1.0,1.0,1.0,1.0,1.0,0.5,0.5,0.5,0.5,0.5,0.5,0.5,0.5,0.5,1.5,1.5,1.5,1.5,1.5,1.5,1.5,1.5,1.5,1.5,1.5,1.5,1.5,1.5,1.5,1.5,1.5,1.5,1.5,1.5,1.5,1.5,1.5,1.5,1.5,1.5,1.5,1.5,1.5,1.5,1.5,1.5,1.5,1.5,1.5,1.5,0.5,0.5,0.5,0.5,0.5,0.5,0.5,0.5,0.5,1.0,1.0,1.0,1.0,1.0,1.0,1.0,1.0,1.0,1.0,1.0,1.0,1.0,1.0,1.0,1.0,4.5,4.5,4.5,4.5,1.0,1.0,1.0,1.0,1.0,1.0,1.0,1.0,1.0,1.0,1.0,1.0,1.0,1.0,1.0,1.0,1.5,1.5,1.5,1.5,1.5,1.5,1.5,1.5,1.5,1.5,1.5,1.5,1.5,1.5,1.5,1.5,1.0,1.0,1.0,1.0,1.0,1.0,1.0,1.0,1.0,0.5,1.0,1.0,1.0,1.0,1.0,1.0,1.0,1.0,1.0,1.0,1.0,1.0,1.0,1.0,1.0,1.0,1.0,1.0,1.0,1.0,1.0,1.0,1.0,1.0,1.0,1.0,1.0,1.04,1.04,1.04,1.04,1.04,1.04,1.04,1.04,1.04,1.0,1.0,1.0,1.0,1.0,1.0,1.0,1.0,1.0,2.0,2.0,2.0,2.0,2.0,2.0,2.0,2.0,2.0,2.0,2.0,2.0,2.0,2.0,2.0,2.0,2.0,2.0,2.0,2.0,2.0,2.0,2.0,2.0,2.0,1.0,1.0,1.0,1.0,1.0,1.0,1.0,1.0,1.0,2.5,0.5,0.5,0.5,0.5,0.5,0.5,0.5,0.5,0.5,1.0,1.0,1.0,1.0,1.0,1.0,1.0,1.0,1.0,0.5,0.5,0.5,0.5,0.5,0.5,0.5,0.5,0.5,1.0,1.0,1.0,1.0,1.0,1.0,1.0,1.0,1.0,1.5,1.5,1.5,1.5,1.5,1.5,1.5,1.5,1.5,1.5,1.5,1.5,1.5,1.5,1.5,1.5,1.5,1.5,1.5,1.5,1.5,1.5,1.5,1.5,1.5,1.5,1.5,1.5,1.5,1.5,1.5,1.5,1.5,1.5,1.5,1.5,2.0,2.0,2.0,2.0,2.0,2.0,2.0,2.0,2.0,2.0,2.0,2.0,2.0,2.0,2.0,2.0,0.5,1.0,1.0,1.0,1.0,1.0,1.0,1.0,1.0,1.0,1.0,1.0,1.0,1.0,1.0,1.0,1.0,1.0,1.0,1.0,1.0,1.0,1.0,1.0,1.0,1.0,1.0,1.0,1.0,1.0,1.0,1.0,1.0,1.5,1.5,1.5,1.5,3.0,3.0,3.0,3.0,3.0,3.0,3.0,3.0,3.0,1.02,1.0,1.0,1.0,1.0,1.0,1.0,1.0,1.0,1.0,1.5,1.5,1.5,1.5,1.5,1.5,1.5,1.5,1.5,1.5,1.5,1.5,1.5,1.5,1.5,1.5,1.5,1.5,1.5,1.5,1.5,1.5,1.5,1.5,1.5,1.0,1.0,1.0,1.0,1.0,1.0,1.0,1.0,1.0,0.5,1.0,1.0,1.0,1.0,1.0,1.0,1.0,1.0,1.0,1.5,1.5,1.5,1.5,1.5,1.5,1.5,1.5,1.5,1.5,1.5,1.5,1.5,1.5,1.5,1.5,1.5,1.5,1.5,1.5,1.5,1.5,1.5,1.5,1.5,1.5,1.5,1.5,1.5,1.5,1.5,1.5,1.5,1.5,1.5,1.5,1.0,1.0,1.0,1.0,1.0,1.0,1.0,1.0,1.0,1.5,1.5,1.5,1.5,1.5,1.5,1.5,1.5,1.5,1.5,1.5,1.5,1.5,1.5,1.5,1.5,1.5,1.5,1.5,1.5,1.5,1.5,1.5,1.5,1.5,1.5,1.5,1.5,1.5,1.5,1.5,1.5,1.5,1.5,1.5,1.5,1.0,1.0,1.0,1.0,1.0,1.0,1.0,1.0,1.0,1.0,2.0,2.0,2.0,2.0,2.0,2.0,2.0,2.0,2.0,2.0,2.0,2.0,2.0,2.0,2.0,2.0,2.0,2.0,2.0,2.0,2.0,2.0,2.0,2.0,2.0,2.0,2.0,2.0,2.0,2.0,2.0,2.0,2.0,2.0,2.0,2.0,2.0,2.0,2.0,2.0,2.0,2.0,2.0,2.0,2.0,2.0,2.0,2.0,2.0,1.0,1.0,1.0,1.0,1.0,1.0,1.0,1.0,1.0,1.0,1.0,1.0,1.0,2.5,2.5,2.5,2.5,2.5,2.5,2.5,2.5,2.5,2.5,2.5,2.5,2.5,2.5,2.5,2.5,1.0,1.0,1.0,1.0,1.0,1.0,1.0,1.0,1.0,1.0,1.0,1.0,1.0,1.0,1.0,1.0,1.0,1.0,1.0,1.0,1.0,1.0,1.0,1.0,1.0,1.0,1.0,1.0,1.0,1.0,1.0,1.0,1.0,1.0,1.5,1.5,1.5,1.5,1.0,1.0,1.0,1.0,1.5,1.5,1.5,1.5,1.0,1.0,1.0,1.0,1.0,1.0,1.0,1.0,1.0,1.0,3.0,3.0,3.0,3.0],\"yaxis\":\"y\",\"type\":\"scattergl\"}],                        {\"template\":{\"data\":{\"histogram2dcontour\":[{\"type\":\"histogram2dcontour\",\"colorbar\":{\"outlinewidth\":0,\"ticks\":\"\"},\"colorscale\":[[0.0,\"#0d0887\"],[0.1111111111111111,\"#46039f\"],[0.2222222222222222,\"#7201a8\"],[0.3333333333333333,\"#9c179e\"],[0.4444444444444444,\"#bd3786\"],[0.5555555555555556,\"#d8576b\"],[0.6666666666666666,\"#ed7953\"],[0.7777777777777778,\"#fb9f3a\"],[0.8888888888888888,\"#fdca26\"],[1.0,\"#f0f921\"]]}],\"choropleth\":[{\"type\":\"choropleth\",\"colorbar\":{\"outlinewidth\":0,\"ticks\":\"\"}}],\"histogram2d\":[{\"type\":\"histogram2d\",\"colorbar\":{\"outlinewidth\":0,\"ticks\":\"\"},\"colorscale\":[[0.0,\"#0d0887\"],[0.1111111111111111,\"#46039f\"],[0.2222222222222222,\"#7201a8\"],[0.3333333333333333,\"#9c179e\"],[0.4444444444444444,\"#bd3786\"],[0.5555555555555556,\"#d8576b\"],[0.6666666666666666,\"#ed7953\"],[0.7777777777777778,\"#fb9f3a\"],[0.8888888888888888,\"#fdca26\"],[1.0,\"#f0f921\"]]}],\"heatmap\":[{\"type\":\"heatmap\",\"colorbar\":{\"outlinewidth\":0,\"ticks\":\"\"},\"colorscale\":[[0.0,\"#0d0887\"],[0.1111111111111111,\"#46039f\"],[0.2222222222222222,\"#7201a8\"],[0.3333333333333333,\"#9c179e\"],[0.4444444444444444,\"#bd3786\"],[0.5555555555555556,\"#d8576b\"],[0.6666666666666666,\"#ed7953\"],[0.7777777777777778,\"#fb9f3a\"],[0.8888888888888888,\"#fdca26\"],[1.0,\"#f0f921\"]]}],\"heatmapgl\":[{\"type\":\"heatmapgl\",\"colorbar\":{\"outlinewidth\":0,\"ticks\":\"\"},\"colorscale\":[[0.0,\"#0d0887\"],[0.1111111111111111,\"#46039f\"],[0.2222222222222222,\"#7201a8\"],[0.3333333333333333,\"#9c179e\"],[0.4444444444444444,\"#bd3786\"],[0.5555555555555556,\"#d8576b\"],[0.6666666666666666,\"#ed7953\"],[0.7777777777777778,\"#fb9f3a\"],[0.8888888888888888,\"#fdca26\"],[1.0,\"#f0f921\"]]}],\"contourcarpet\":[{\"type\":\"contourcarpet\",\"colorbar\":{\"outlinewidth\":0,\"ticks\":\"\"}}],\"contour\":[{\"type\":\"contour\",\"colorbar\":{\"outlinewidth\":0,\"ticks\":\"\"},\"colorscale\":[[0.0,\"#0d0887\"],[0.1111111111111111,\"#46039f\"],[0.2222222222222222,\"#7201a8\"],[0.3333333333333333,\"#9c179e\"],[0.4444444444444444,\"#bd3786\"],[0.5555555555555556,\"#d8576b\"],[0.6666666666666666,\"#ed7953\"],[0.7777777777777778,\"#fb9f3a\"],[0.8888888888888888,\"#fdca26\"],[1.0,\"#f0f921\"]]}],\"surface\":[{\"type\":\"surface\",\"colorbar\":{\"outlinewidth\":0,\"ticks\":\"\"},\"colorscale\":[[0.0,\"#0d0887\"],[0.1111111111111111,\"#46039f\"],[0.2222222222222222,\"#7201a8\"],[0.3333333333333333,\"#9c179e\"],[0.4444444444444444,\"#bd3786\"],[0.5555555555555556,\"#d8576b\"],[0.6666666666666666,\"#ed7953\"],[0.7777777777777778,\"#fb9f3a\"],[0.8888888888888888,\"#fdca26\"],[1.0,\"#f0f921\"]]}],\"mesh3d\":[{\"type\":\"mesh3d\",\"colorbar\":{\"outlinewidth\":0,\"ticks\":\"\"}}],\"scatter\":[{\"fillpattern\":{\"fillmode\":\"overlay\",\"size\":10,\"solidity\":0.2},\"type\":\"scatter\"}],\"parcoords\":[{\"type\":\"parcoords\",\"line\":{\"colorbar\":{\"outlinewidth\":0,\"ticks\":\"\"}}}],\"scatterpolargl\":[{\"type\":\"scatterpolargl\",\"marker\":{\"colorbar\":{\"outlinewidth\":0,\"ticks\":\"\"}}}],\"bar\":[{\"error_x\":{\"color\":\"#2a3f5f\"},\"error_y\":{\"color\":\"#2a3f5f\"},\"marker\":{\"line\":{\"color\":\"#E5ECF6\",\"width\":0.5},\"pattern\":{\"fillmode\":\"overlay\",\"size\":10,\"solidity\":0.2}},\"type\":\"bar\"}],\"scattergeo\":[{\"type\":\"scattergeo\",\"marker\":{\"colorbar\":{\"outlinewidth\":0,\"ticks\":\"\"}}}],\"scatterpolar\":[{\"type\":\"scatterpolar\",\"marker\":{\"colorbar\":{\"outlinewidth\":0,\"ticks\":\"\"}}}],\"histogram\":[{\"marker\":{\"pattern\":{\"fillmode\":\"overlay\",\"size\":10,\"solidity\":0.2}},\"type\":\"histogram\"}],\"scattergl\":[{\"type\":\"scattergl\",\"marker\":{\"colorbar\":{\"outlinewidth\":0,\"ticks\":\"\"}}}],\"scatter3d\":[{\"type\":\"scatter3d\",\"line\":{\"colorbar\":{\"outlinewidth\":0,\"ticks\":\"\"}},\"marker\":{\"colorbar\":{\"outlinewidth\":0,\"ticks\":\"\"}}}],\"scattermapbox\":[{\"type\":\"scattermapbox\",\"marker\":{\"colorbar\":{\"outlinewidth\":0,\"ticks\":\"\"}}}],\"scatterternary\":[{\"type\":\"scatterternary\",\"marker\":{\"colorbar\":{\"outlinewidth\":0,\"ticks\":\"\"}}}],\"scattercarpet\":[{\"type\":\"scattercarpet\",\"marker\":{\"colorbar\":{\"outlinewidth\":0,\"ticks\":\"\"}}}],\"carpet\":[{\"aaxis\":{\"endlinecolor\":\"#2a3f5f\",\"gridcolor\":\"white\",\"linecolor\":\"white\",\"minorgridcolor\":\"white\",\"startlinecolor\":\"#2a3f5f\"},\"baxis\":{\"endlinecolor\":\"#2a3f5f\",\"gridcolor\":\"white\",\"linecolor\":\"white\",\"minorgridcolor\":\"white\",\"startlinecolor\":\"#2a3f5f\"},\"type\":\"carpet\"}],\"table\":[{\"cells\":{\"fill\":{\"color\":\"#EBF0F8\"},\"line\":{\"color\":\"white\"}},\"header\":{\"fill\":{\"color\":\"#C8D4E3\"},\"line\":{\"color\":\"white\"}},\"type\":\"table\"}],\"barpolar\":[{\"marker\":{\"line\":{\"color\":\"#E5ECF6\",\"width\":0.5},\"pattern\":{\"fillmode\":\"overlay\",\"size\":10,\"solidity\":0.2}},\"type\":\"barpolar\"}],\"pie\":[{\"automargin\":true,\"type\":\"pie\"}]},\"layout\":{\"autotypenumbers\":\"strict\",\"colorway\":[\"#636efa\",\"#EF553B\",\"#00cc96\",\"#ab63fa\",\"#FFA15A\",\"#19d3f3\",\"#FF6692\",\"#B6E880\",\"#FF97FF\",\"#FECB52\"],\"font\":{\"color\":\"#2a3f5f\"},\"hovermode\":\"closest\",\"hoverlabel\":{\"align\":\"left\"},\"paper_bgcolor\":\"white\",\"plot_bgcolor\":\"#E5ECF6\",\"polar\":{\"bgcolor\":\"#E5ECF6\",\"angularaxis\":{\"gridcolor\":\"white\",\"linecolor\":\"white\",\"ticks\":\"\"},\"radialaxis\":{\"gridcolor\":\"white\",\"linecolor\":\"white\",\"ticks\":\"\"}},\"ternary\":{\"bgcolor\":\"#E5ECF6\",\"aaxis\":{\"gridcolor\":\"white\",\"linecolor\":\"white\",\"ticks\":\"\"},\"baxis\":{\"gridcolor\":\"white\",\"linecolor\":\"white\",\"ticks\":\"\"},\"caxis\":{\"gridcolor\":\"white\",\"linecolor\":\"white\",\"ticks\":\"\"}},\"coloraxis\":{\"colorbar\":{\"outlinewidth\":0,\"ticks\":\"\"}},\"colorscale\":{\"sequential\":[[0.0,\"#0d0887\"],[0.1111111111111111,\"#46039f\"],[0.2222222222222222,\"#7201a8\"],[0.3333333333333333,\"#9c179e\"],[0.4444444444444444,\"#bd3786\"],[0.5555555555555556,\"#d8576b\"],[0.6666666666666666,\"#ed7953\"],[0.7777777777777778,\"#fb9f3a\"],[0.8888888888888888,\"#fdca26\"],[1.0,\"#f0f921\"]],\"sequentialminus\":[[0.0,\"#0d0887\"],[0.1111111111111111,\"#46039f\"],[0.2222222222222222,\"#7201a8\"],[0.3333333333333333,\"#9c179e\"],[0.4444444444444444,\"#bd3786\"],[0.5555555555555556,\"#d8576b\"],[0.6666666666666666,\"#ed7953\"],[0.7777777777777778,\"#fb9f3a\"],[0.8888888888888888,\"#fdca26\"],[1.0,\"#f0f921\"]],\"diverging\":[[0,\"#8e0152\"],[0.1,\"#c51b7d\"],[0.2,\"#de77ae\"],[0.3,\"#f1b6da\"],[0.4,\"#fde0ef\"],[0.5,\"#f7f7f7\"],[0.6,\"#e6f5d0\"],[0.7,\"#b8e186\"],[0.8,\"#7fbc41\"],[0.9,\"#4d9221\"],[1,\"#276419\"]]},\"xaxis\":{\"gridcolor\":\"white\",\"linecolor\":\"white\",\"ticks\":\"\",\"title\":{\"standoff\":15},\"zerolinecolor\":\"white\",\"automargin\":true,\"zerolinewidth\":2},\"yaxis\":{\"gridcolor\":\"white\",\"linecolor\":\"white\",\"ticks\":\"\",\"title\":{\"standoff\":15},\"zerolinecolor\":\"white\",\"automargin\":true,\"zerolinewidth\":2},\"scene\":{\"xaxis\":{\"backgroundcolor\":\"#E5ECF6\",\"gridcolor\":\"white\",\"linecolor\":\"white\",\"showbackground\":true,\"ticks\":\"\",\"zerolinecolor\":\"white\",\"gridwidth\":2},\"yaxis\":{\"backgroundcolor\":\"#E5ECF6\",\"gridcolor\":\"white\",\"linecolor\":\"white\",\"showbackground\":true,\"ticks\":\"\",\"zerolinecolor\":\"white\",\"gridwidth\":2},\"zaxis\":{\"backgroundcolor\":\"#E5ECF6\",\"gridcolor\":\"white\",\"linecolor\":\"white\",\"showbackground\":true,\"ticks\":\"\",\"zerolinecolor\":\"white\",\"gridwidth\":2}},\"shapedefaults\":{\"line\":{\"color\":\"#2a3f5f\"}},\"annotationdefaults\":{\"arrowcolor\":\"#2a3f5f\",\"arrowhead\":0,\"arrowwidth\":1},\"geo\":{\"bgcolor\":\"white\",\"landcolor\":\"#E5ECF6\",\"subunitcolor\":\"white\",\"showland\":true,\"showlakes\":true,\"lakecolor\":\"white\"},\"title\":{\"x\":0.05},\"mapbox\":{\"style\":\"light\"}}},\"xaxis\":{\"anchor\":\"y\",\"domain\":[0.0,1.0],\"title\":{\"text\":\"Weight Slab As Per SIGMA\"}},\"yaxis\":{\"anchor\":\"x\",\"domain\":[0.0,1.0],\"title\":{\"text\":\"Weight Slab Charged by Courier Company\"}},\"legend\":{\"tracegroupgap\":0},\"title\":{\"text\":\"Relationship between SIGMA and Courier Weight Slabs\"},\"shapes\":[{\"layer\":\"below\",\"line\":{\"color\":\"red\",\"width\":3},\"type\":\"line\",\"x0\":0.01,\"x1\":4.5,\"y0\":0.01,\"y1\":4.5}]},                        {\"responsive\": true}                    ).then(function(){\n",
              "                            \n",
              "var gd = document.getElementById('5d989365-2b81-4401-a656-0405dd958f9a');\n",
              "var x = new MutationObserver(function (mutations, observer) {{\n",
              "        var display = window.getComputedStyle(gd).display;\n",
              "        if (!display || display === 'none') {{\n",
              "            console.log([gd, 'removed!']);\n",
              "            Plotly.purge(gd);\n",
              "            observer.disconnect();\n",
              "        }}\n",
              "}});\n",
              "\n",
              "// Listen for the removal of the full notebook cells\n",
              "var notebookContainer = gd.closest('#notebook-container');\n",
              "if (notebookContainer) {{\n",
              "    x.observe(notebookContainer, {childList: true});\n",
              "}}\n",
              "\n",
              "// Listen for the clearing of the current output cell\n",
              "var outputEl = gd.closest('.output');\n",
              "if (outputEl) {{\n",
              "    x.observe(outputEl, {childList: true});\n",
              "}}\n",
              "\n",
              "                        })                };                            </script>        </div>\n",
              "</body>\n",
              "</html>"
            ]
          },
          "metadata": {}
        }
      ],
      "source": [
        "import plotly.express as px\n",
        "\n",
        "def create_plotly_scatter_with_diagonal(data):\n",
        "    \"\"\"Creates a Plotly scatter plot with a very visible diagonal line.\"\"\"\n",
        "\n",
        "    if not isinstance(data, pd.DataFrame):\n",
        "        print(\"Input data must be a pandas DataFrame.\")\n",
        "        return\n",
        "\n",
        "    if 'Weight Slab As Per SIGMA' not in data.columns or 'Weight Slab Charged by Courier Company' not in data.columns:\n",
        "        print(\"DataFrame must contain 'Weight Slab As Per SIGMA' and 'Weight Slab Charged by Courier Company' columns.\")\n",
        "        return\n",
        "\n",
        "    fig = px.scatter(data, x='Weight Slab As Per SIGMA', y='Weight Slab Charged by Courier Company',\n",
        "                     title='Relationship between SIGMA and Courier Weight Slabs')\n",
        "\n",
        "    # Calculate the min and max values for the diagonal line\n",
        "    min_val = min(data['Weight Slab As Per SIGMA'].min(), data['Weight Slab Charged by Courier Company'].min())\n",
        "    max_val = max(data['Weight Slab As Per SIGMA'].max(), data['Weight Slab Charged by Courier Company'].max())\n",
        "\n",
        "    # Make the diagonal line very thick\n",
        "    fig.add_shape(\n",
        "        type=\"line\",\n",
        "        x0=min_val,\n",
        "        y0=min_val,\n",
        "        x1=max_val,\n",
        "        y1=max_val,\n",
        "        line=dict(\n",
        "            color=\"red\",  # Bright red color\n",
        "            width=3,      # Thicker line\n",
        "        ),\n",
        "        layer=\"below\" #places the line below the points.\n",
        "    )\n",
        "\n",
        "    fig.show()\n",
        "\n",
        "create_plotly_scatter_with_diagonal(merged_df)"
      ]
    },
    {
      "cell_type": "code",
      "execution_count": 29,
      "id": "c5712760-92b6-41ff-8ae3-7811a06e472b",
      "metadata": {
        "colab": {
          "base_uri": "https://localhost:8080/",
          "height": 140
        },
        "id": "c5712760-92b6-41ff-8ae3-7811a06e472b",
        "outputId": "a609115c-64c1-4966-b6bd-66ec236eb9b1"
      },
      "outputs": [
        {
          "output_type": "execute_result",
          "data": {
            "text/plain": [
              "\"\\nThe scatter plot above shows the relationship between the two weight slab columns.\\n\\nIf the points fall along a straight diagonal line, it means there's a strong correlation (no charge differences).\\n\\nIf the points are scattered, it indicates differences between the weight slabs.\\n\\nPoints above the diagonal mean that the courier charged a higher weight slab. \\n\\nPoints below the diagonal mean that the courier charged a lower weight slab than SIGMA.\\n\\nSo, according to our diagram, the points fall above the diagonal which confirms that the ccourier companies charged a higher weight slab\\nand the only place where there no charge difference is at the point where both weight slabs were 0.5 and fell along a straight diagonal line.\\n\""
            ],
            "application/vnd.google.colaboratory.intrinsic+json": {
              "type": "string"
            }
          },
          "metadata": {},
          "execution_count": 29
        }
      ],
      "source": [
        "'''\n",
        "The scatter plot above shows the relationship between the two weight slab columns.\n",
        "\n",
        "If the points fall along a straight diagonal line, it means there's a strong correlation (no charge differences).\n",
        "\n",
        "If the points are scattered, it indicates differences between the weight slabs.\n",
        "\n",
        "Points above the diagonal mean that the courier charged a higher weight slab.\n",
        "\n",
        "Points below the diagonal mean that the courier charged a lower weight slab than SIGMA.\n",
        "\n",
        "So, according to our diagram, the points fall above the diagonal which confirms that the ccourier companies charged a higher weight slab\n",
        "and the only place where there no charge difference is at the point where both weight slabs were 0.5 and fell along a straight diagonal line.\n",
        "'''"
      ]
    }
  ],
  "metadata": {
    "kernelspec": {
      "display_name": "Python 3 (ipykernel)",
      "language": "python",
      "name": "python3"
    },
    "language_info": {
      "codemirror_mode": {
        "name": "ipython",
        "version": 3
      },
      "file_extension": ".py",
      "mimetype": "text/x-python",
      "name": "python",
      "nbconvert_exporter": "python",
      "pygments_lexer": "ipython3",
      "version": "3.12.7"
    },
    "colab": {
      "provenance": [],
      "include_colab_link": true
    }
  },
  "nbformat": 4,
  "nbformat_minor": 5
}